{
  "nbformat": 4,
  "nbformat_minor": 0,
  "metadata": {
    "colab": {
      "provenance": [],
      "gpuType": "T4",
      "authorship_tag": "ABX9TyNr4SCeaCqy8GrskGaDns3y",
      "include_colab_link": true
    },
    "kernelspec": {
      "name": "python3",
      "display_name": "Python 3"
    },
    "language_info": {
      "name": "python"
    },
    "accelerator": "GPU"
  },
  "cells": [
    {
      "cell_type": "markdown",
      "metadata": {
        "id": "view-in-github",
        "colab_type": "text"
      },
      "source": [
        "<a href=\"https://colab.research.google.com/github/Imteaz1998/Genrative-AI/blob/main/10_Langchain_complete_Notebook.ipynb\" target=\"_parent\"><img src=\"https://colab.research.google.com/assets/colab-badge.svg\" alt=\"Open In Colab\"/></a>"
      ]
    },
    {
      "cell_type": "markdown",
      "source": [
        "OverView\n",
        "\n",
        "1. Installation\n",
        "2. LLMs\n",
        "3. Prompt Templates\n",
        "4. Chains\n",
        "5. Agents and Tools\n",
        "6. Memory\n",
        "7. Document Loaders\n",
        "8. Indexes"
      ],
      "metadata": {
        "id": "20oa9KP5ypHD"
      }
    },
    {
      "cell_type": "markdown",
      "source": [
        "# Installation"
      ],
      "metadata": {
        "id": "g7jK_T4mzakn"
      }
    },
    {
      "cell_type": "code",
      "execution_count": 1,
      "metadata": {
        "colab": {
          "base_uri": "https://localhost:8080/"
        },
        "id": "BijKwTbOxqqT",
        "outputId": "f507d210-9569-48ef-d557-e745ee26cc3b",
        "collapsed": true
      },
      "outputs": [
        {
          "output_type": "stream",
          "name": "stdout",
          "text": [
            "Requirement already satisfied: langchain in /usr/local/lib/python3.11/dist-packages (0.3.18)\n",
            "Collecting langchain_community\n",
            "  Downloading langchain_community-0.3.17-py3-none-any.whl.metadata (2.4 kB)\n",
            "Requirement already satisfied: langchain-core<1.0.0,>=0.3.34 in /usr/local/lib/python3.11/dist-packages (from langchain) (0.3.35)\n",
            "Requirement already satisfied: langchain-text-splitters<1.0.0,>=0.3.6 in /usr/local/lib/python3.11/dist-packages (from langchain) (0.3.6)\n",
            "Requirement already satisfied: langsmith<0.4,>=0.1.17 in /usr/local/lib/python3.11/dist-packages (from langchain) (0.3.8)\n",
            "Requirement already satisfied: pydantic<3.0.0,>=2.7.4 in /usr/local/lib/python3.11/dist-packages (from langchain) (2.10.6)\n",
            "Requirement already satisfied: SQLAlchemy<3,>=1.4 in /usr/local/lib/python3.11/dist-packages (from langchain) (2.0.38)\n",
            "Requirement already satisfied: requests<3,>=2 in /usr/local/lib/python3.11/dist-packages (from langchain) (2.32.3)\n",
            "Requirement already satisfied: PyYAML>=5.3 in /usr/local/lib/python3.11/dist-packages (from langchain) (6.0.2)\n",
            "Requirement already satisfied: aiohttp<4.0.0,>=3.8.3 in /usr/local/lib/python3.11/dist-packages (from langchain) (3.11.12)\n",
            "Requirement already satisfied: tenacity!=8.4.0,<10,>=8.1.0 in /usr/local/lib/python3.11/dist-packages (from langchain) (9.0.0)\n",
            "Requirement already satisfied: numpy<2,>=1.26.4 in /usr/local/lib/python3.11/dist-packages (from langchain) (1.26.4)\n",
            "Collecting dataclasses-json<0.7,>=0.5.7 (from langchain_community)\n",
            "  Downloading dataclasses_json-0.6.7-py3-none-any.whl.metadata (25 kB)\n",
            "Collecting pydantic-settings<3.0.0,>=2.4.0 (from langchain_community)\n",
            "  Downloading pydantic_settings-2.7.1-py3-none-any.whl.metadata (3.5 kB)\n",
            "Collecting httpx-sse<1.0.0,>=0.4.0 (from langchain_community)\n",
            "  Downloading httpx_sse-0.4.0-py3-none-any.whl.metadata (9.0 kB)\n",
            "Requirement already satisfied: aiohappyeyeballs>=2.3.0 in /usr/local/lib/python3.11/dist-packages (from aiohttp<4.0.0,>=3.8.3->langchain) (2.4.6)\n",
            "Requirement already satisfied: aiosignal>=1.1.2 in /usr/local/lib/python3.11/dist-packages (from aiohttp<4.0.0,>=3.8.3->langchain) (1.3.2)\n",
            "Requirement already satisfied: attrs>=17.3.0 in /usr/local/lib/python3.11/dist-packages (from aiohttp<4.0.0,>=3.8.3->langchain) (25.1.0)\n",
            "Requirement already satisfied: frozenlist>=1.1.1 in /usr/local/lib/python3.11/dist-packages (from aiohttp<4.0.0,>=3.8.3->langchain) (1.5.0)\n",
            "Requirement already satisfied: multidict<7.0,>=4.5 in /usr/local/lib/python3.11/dist-packages (from aiohttp<4.0.0,>=3.8.3->langchain) (6.1.0)\n",
            "Requirement already satisfied: propcache>=0.2.0 in /usr/local/lib/python3.11/dist-packages (from aiohttp<4.0.0,>=3.8.3->langchain) (0.2.1)\n",
            "Requirement already satisfied: yarl<2.0,>=1.17.0 in /usr/local/lib/python3.11/dist-packages (from aiohttp<4.0.0,>=3.8.3->langchain) (1.18.3)\n",
            "Collecting marshmallow<4.0.0,>=3.18.0 (from dataclasses-json<0.7,>=0.5.7->langchain_community)\n",
            "  Downloading marshmallow-3.26.1-py3-none-any.whl.metadata (7.3 kB)\n",
            "Collecting typing-inspect<1,>=0.4.0 (from dataclasses-json<0.7,>=0.5.7->langchain_community)\n",
            "  Downloading typing_inspect-0.9.0-py3-none-any.whl.metadata (1.5 kB)\n",
            "Requirement already satisfied: jsonpatch<2.0,>=1.33 in /usr/local/lib/python3.11/dist-packages (from langchain-core<1.0.0,>=0.3.34->langchain) (1.33)\n",
            "Requirement already satisfied: packaging<25,>=23.2 in /usr/local/lib/python3.11/dist-packages (from langchain-core<1.0.0,>=0.3.34->langchain) (24.2)\n",
            "Requirement already satisfied: typing-extensions>=4.7 in /usr/local/lib/python3.11/dist-packages (from langchain-core<1.0.0,>=0.3.34->langchain) (4.12.2)\n",
            "Requirement already satisfied: httpx<1,>=0.23.0 in /usr/local/lib/python3.11/dist-packages (from langsmith<0.4,>=0.1.17->langchain) (0.28.1)\n",
            "Requirement already satisfied: orjson<4.0.0,>=3.9.14 in /usr/local/lib/python3.11/dist-packages (from langsmith<0.4,>=0.1.17->langchain) (3.10.15)\n",
            "Requirement already satisfied: requests-toolbelt<2.0.0,>=1.0.0 in /usr/local/lib/python3.11/dist-packages (from langsmith<0.4,>=0.1.17->langchain) (1.0.0)\n",
            "Requirement already satisfied: zstandard<0.24.0,>=0.23.0 in /usr/local/lib/python3.11/dist-packages (from langsmith<0.4,>=0.1.17->langchain) (0.23.0)\n",
            "Requirement already satisfied: annotated-types>=0.6.0 in /usr/local/lib/python3.11/dist-packages (from pydantic<3.0.0,>=2.7.4->langchain) (0.7.0)\n",
            "Requirement already satisfied: pydantic-core==2.27.2 in /usr/local/lib/python3.11/dist-packages (from pydantic<3.0.0,>=2.7.4->langchain) (2.27.2)\n",
            "Collecting python-dotenv>=0.21.0 (from pydantic-settings<3.0.0,>=2.4.0->langchain_community)\n",
            "  Downloading python_dotenv-1.0.1-py3-none-any.whl.metadata (23 kB)\n",
            "Requirement already satisfied: charset-normalizer<4,>=2 in /usr/local/lib/python3.11/dist-packages (from requests<3,>=2->langchain) (3.4.1)\n",
            "Requirement already satisfied: idna<4,>=2.5 in /usr/local/lib/python3.11/dist-packages (from requests<3,>=2->langchain) (3.10)\n",
            "Requirement already satisfied: urllib3<3,>=1.21.1 in /usr/local/lib/python3.11/dist-packages (from requests<3,>=2->langchain) (2.3.0)\n",
            "Requirement already satisfied: certifi>=2017.4.17 in /usr/local/lib/python3.11/dist-packages (from requests<3,>=2->langchain) (2025.1.31)\n",
            "Requirement already satisfied: greenlet!=0.4.17 in /usr/local/lib/python3.11/dist-packages (from SQLAlchemy<3,>=1.4->langchain) (3.1.1)\n",
            "Requirement already satisfied: anyio in /usr/local/lib/python3.11/dist-packages (from httpx<1,>=0.23.0->langsmith<0.4,>=0.1.17->langchain) (3.7.1)\n",
            "Requirement already satisfied: httpcore==1.* in /usr/local/lib/python3.11/dist-packages (from httpx<1,>=0.23.0->langsmith<0.4,>=0.1.17->langchain) (1.0.7)\n",
            "Requirement already satisfied: h11<0.15,>=0.13 in /usr/local/lib/python3.11/dist-packages (from httpcore==1.*->httpx<1,>=0.23.0->langsmith<0.4,>=0.1.17->langchain) (0.14.0)\n",
            "Requirement already satisfied: jsonpointer>=1.9 in /usr/local/lib/python3.11/dist-packages (from jsonpatch<2.0,>=1.33->langchain-core<1.0.0,>=0.3.34->langchain) (3.0.0)\n",
            "Collecting mypy-extensions>=0.3.0 (from typing-inspect<1,>=0.4.0->dataclasses-json<0.7,>=0.5.7->langchain_community)\n",
            "  Downloading mypy_extensions-1.0.0-py3-none-any.whl.metadata (1.1 kB)\n",
            "Requirement already satisfied: sniffio>=1.1 in /usr/local/lib/python3.11/dist-packages (from anyio->httpx<1,>=0.23.0->langsmith<0.4,>=0.1.17->langchain) (1.3.1)\n",
            "Downloading langchain_community-0.3.17-py3-none-any.whl (2.5 MB)\n",
            "\u001b[2K   \u001b[90m━━━━━━━━━━━━━━━━━━━━━━━━━━━━━━━━━━━━━━━━\u001b[0m \u001b[32m2.5/2.5 MB\u001b[0m \u001b[31m31.1 MB/s\u001b[0m eta \u001b[36m0:00:00\u001b[0m\n",
            "\u001b[?25hDownloading dataclasses_json-0.6.7-py3-none-any.whl (28 kB)\n",
            "Downloading httpx_sse-0.4.0-py3-none-any.whl (7.8 kB)\n",
            "Downloading pydantic_settings-2.7.1-py3-none-any.whl (29 kB)\n",
            "Downloading marshmallow-3.26.1-py3-none-any.whl (50 kB)\n",
            "\u001b[2K   \u001b[90m━━━━━━━━━━━━━━━━━━━━━━━━━━━━━━━━━━━━━━━━\u001b[0m \u001b[32m50.9/50.9 kB\u001b[0m \u001b[31m4.4 MB/s\u001b[0m eta \u001b[36m0:00:00\u001b[0m\n",
            "\u001b[?25hDownloading python_dotenv-1.0.1-py3-none-any.whl (19 kB)\n",
            "Downloading typing_inspect-0.9.0-py3-none-any.whl (8.8 kB)\n",
            "Downloading mypy_extensions-1.0.0-py3-none-any.whl (4.7 kB)\n",
            "Installing collected packages: python-dotenv, mypy-extensions, marshmallow, httpx-sse, typing-inspect, pydantic-settings, dataclasses-json, langchain_community\n",
            "Successfully installed dataclasses-json-0.6.7 httpx-sse-0.4.0 langchain_community-0.3.17 marshmallow-3.26.1 mypy-extensions-1.0.0 pydantic-settings-2.7.1 python-dotenv-1.0.1 typing-inspect-0.9.0\n",
            "\u001b[2K   \u001b[90m━━━━━━━━━━━━━━━━━━━━━━━━━━━━━━━━━━━━━━━━\u001b[0m \u001b[32m41.7/41.7 kB\u001b[0m \u001b[31m1.5 MB/s\u001b[0m eta \u001b[36m0:00:00\u001b[0m\n",
            "\u001b[?25h"
          ]
        }
      ],
      "source": [
        "!pip install langchain langchain_community\n",
        "%pip install --upgrade --quiet  langchain-google-genai"
      ]
    },
    {
      "cell_type": "markdown",
      "source": [
        "temperature value--> how creative we want our model to be\n",
        "\n",
        "0 ---> temperature it means model is  very safe it is not taking any bets.\n",
        "\n",
        "1 --> it will take risk it might generate wrong output but it is very creative"
      ],
      "metadata": {
        "id": "m6e_lDqU2k2z"
      }
    },
    {
      "cell_type": "markdown",
      "source": [
        "#Open Source LLM"
      ],
      "metadata": {
        "id": "Xmr9dSsp4Ur2"
      }
    },
    {
      "cell_type": "code",
      "source": [
        "from google.colab import userdata\n",
        "Google_sec_key=userdata.get(\"GOOGLEAPI\")"
      ],
      "metadata": {
        "id": "bBRJpSDiiC-8"
      },
      "execution_count": 2,
      "outputs": []
    },
    {
      "cell_type": "code",
      "source": [
        "from langchain_google_genai import GoogleGenerativeAI, HarmBlockThreshold, HarmCategory\n",
        "llm = GoogleGenerativeAI(\n",
        "    model=\"gemini-pro\",\n",
        "    google_api_key=Google_sec_key,\n",
        "    temperature=0.5,\n",
        "    safety_settings={\n",
        "        HarmCategory.HARM_CATEGORY_DANGEROUS_CONTENT: HarmBlockThreshold.BLOCK_NONE,\n",
        "    },\n",
        ")"
      ],
      "metadata": {
        "id": "eIi__3Wn2L-w"
      },
      "execution_count": 3,
      "outputs": []
    },
    {
      "cell_type": "code",
      "source": [
        "text=\"What would be a good company name for a company that makes colorful socks?\""
      ],
      "metadata": {
        "id": "2zEr-uGO2eoo"
      },
      "execution_count": 4,
      "outputs": []
    },
    {
      "cell_type": "code",
      "source": [
        "print(llm.predict(text))"
      ],
      "metadata": {
        "colab": {
          "base_uri": "https://localhost:8080/"
        },
        "id": "7bcba6ag2rNH",
        "outputId": "01ba3e9f-7cc5-408d-d603-5d4c427e3dba"
      },
      "execution_count": 5,
      "outputs": [
        {
          "output_type": "stream",
          "name": "stderr",
          "text": [
            "<ipython-input-5-652b389f66d4>:1: LangChainDeprecationWarning: The method `BaseLLM.predict` was deprecated in langchain-core 0.1.7 and will be removed in 1.0. Use :meth:`~invoke` instead.\n",
            "  print(llm.predict(text))\n"
          ]
        },
        {
          "output_type": "stream",
          "name": "stdout",
          "text": [
            "* **Chromatic Threads**\n",
            "* **Kaleidosocks**\n",
            "* **Huetiful Hosiery**\n",
            "* **Prismatic Pedals**\n",
            "* **Rainbow Runners**\n",
            "* **Soleful Spectrum**\n",
            "* **Vibrant Toes**\n",
            "* **Tonal Treads**\n",
            "* **Colorific Calves**\n",
            "* **Technicolor Tootsies**\n",
            "* **Pigment Perfect Socks**\n",
            "* **Viva La Vivid**\n",
            "* **Chromatic Canvas**\n",
            "* **Spectrum Socks**\n",
            "* **Soles of Color**\n"
          ]
        }
      ]
    },
    {
      "cell_type": "markdown",
      "source": [
        "# HuggingFace"
      ],
      "metadata": {
        "id": "7ZcY9huW4Qcv"
      }
    },
    {
      "cell_type": "code",
      "source": [
        "\n",
        "## Libraries Required\n",
        "!pip install langchain-huggingface\n",
        "## For API Calls\n"
      ],
      "metadata": {
        "colab": {
          "base_uri": "https://localhost:8080/"
        },
        "id": "13DS1VmVc2h9",
        "outputId": "3fcecff2-e746-4e74-968a-3c7c3109224e"
      },
      "execution_count": 6,
      "outputs": [
        {
          "output_type": "stream",
          "name": "stdout",
          "text": [
            "Collecting langchain-huggingface\n",
            "  Downloading langchain_huggingface-0.1.2-py3-none-any.whl.metadata (1.3 kB)\n",
            "Requirement already satisfied: huggingface-hub>=0.23.0 in /usr/local/lib/python3.11/dist-packages (from langchain-huggingface) (0.28.1)\n",
            "Requirement already satisfied: langchain-core<0.4.0,>=0.3.15 in /usr/local/lib/python3.11/dist-packages (from langchain-huggingface) (0.3.35)\n",
            "Requirement already satisfied: sentence-transformers>=2.6.0 in /usr/local/lib/python3.11/dist-packages (from langchain-huggingface) (3.4.1)\n",
            "Requirement already satisfied: tokenizers>=0.19.1 in /usr/local/lib/python3.11/dist-packages (from langchain-huggingface) (0.21.0)\n",
            "Requirement already satisfied: transformers>=4.39.0 in /usr/local/lib/python3.11/dist-packages (from langchain-huggingface) (4.48.3)\n",
            "Requirement already satisfied: filelock in /usr/local/lib/python3.11/dist-packages (from huggingface-hub>=0.23.0->langchain-huggingface) (3.17.0)\n",
            "Requirement already satisfied: fsspec>=2023.5.0 in /usr/local/lib/python3.11/dist-packages (from huggingface-hub>=0.23.0->langchain-huggingface) (2024.10.0)\n",
            "Requirement already satisfied: packaging>=20.9 in /usr/local/lib/python3.11/dist-packages (from huggingface-hub>=0.23.0->langchain-huggingface) (24.2)\n",
            "Requirement already satisfied: pyyaml>=5.1 in /usr/local/lib/python3.11/dist-packages (from huggingface-hub>=0.23.0->langchain-huggingface) (6.0.2)\n",
            "Requirement already satisfied: requests in /usr/local/lib/python3.11/dist-packages (from huggingface-hub>=0.23.0->langchain-huggingface) (2.32.3)\n",
            "Requirement already satisfied: tqdm>=4.42.1 in /usr/local/lib/python3.11/dist-packages (from huggingface-hub>=0.23.0->langchain-huggingface) (4.67.1)\n",
            "Requirement already satisfied: typing-extensions>=3.7.4.3 in /usr/local/lib/python3.11/dist-packages (from huggingface-hub>=0.23.0->langchain-huggingface) (4.12.2)\n",
            "Requirement already satisfied: langsmith<0.4,>=0.1.125 in /usr/local/lib/python3.11/dist-packages (from langchain-core<0.4.0,>=0.3.15->langchain-huggingface) (0.3.8)\n",
            "Requirement already satisfied: tenacity!=8.4.0,<10.0.0,>=8.1.0 in /usr/local/lib/python3.11/dist-packages (from langchain-core<0.4.0,>=0.3.15->langchain-huggingface) (9.0.0)\n",
            "Requirement already satisfied: jsonpatch<2.0,>=1.33 in /usr/local/lib/python3.11/dist-packages (from langchain-core<0.4.0,>=0.3.15->langchain-huggingface) (1.33)\n",
            "Requirement already satisfied: pydantic<3.0.0,>=2.5.2 in /usr/local/lib/python3.11/dist-packages (from langchain-core<0.4.0,>=0.3.15->langchain-huggingface) (2.10.6)\n",
            "Requirement already satisfied: torch>=1.11.0 in /usr/local/lib/python3.11/dist-packages (from sentence-transformers>=2.6.0->langchain-huggingface) (2.5.1+cu124)\n",
            "Requirement already satisfied: scikit-learn in /usr/local/lib/python3.11/dist-packages (from sentence-transformers>=2.6.0->langchain-huggingface) (1.6.1)\n",
            "Requirement already satisfied: scipy in /usr/local/lib/python3.11/dist-packages (from sentence-transformers>=2.6.0->langchain-huggingface) (1.13.1)\n",
            "Requirement already satisfied: Pillow in /usr/local/lib/python3.11/dist-packages (from sentence-transformers>=2.6.0->langchain-huggingface) (11.1.0)\n",
            "Requirement already satisfied: numpy>=1.17 in /usr/local/lib/python3.11/dist-packages (from transformers>=4.39.0->langchain-huggingface) (1.26.4)\n",
            "Requirement already satisfied: regex!=2019.12.17 in /usr/local/lib/python3.11/dist-packages (from transformers>=4.39.0->langchain-huggingface) (2024.11.6)\n",
            "Requirement already satisfied: safetensors>=0.4.1 in /usr/local/lib/python3.11/dist-packages (from transformers>=4.39.0->langchain-huggingface) (0.5.2)\n",
            "Requirement already satisfied: jsonpointer>=1.9 in /usr/local/lib/python3.11/dist-packages (from jsonpatch<2.0,>=1.33->langchain-core<0.4.0,>=0.3.15->langchain-huggingface) (3.0.0)\n",
            "Requirement already satisfied: httpx<1,>=0.23.0 in /usr/local/lib/python3.11/dist-packages (from langsmith<0.4,>=0.1.125->langchain-core<0.4.0,>=0.3.15->langchain-huggingface) (0.28.1)\n",
            "Requirement already satisfied: orjson<4.0.0,>=3.9.14 in /usr/local/lib/python3.11/dist-packages (from langsmith<0.4,>=0.1.125->langchain-core<0.4.0,>=0.3.15->langchain-huggingface) (3.10.15)\n",
            "Requirement already satisfied: requests-toolbelt<2.0.0,>=1.0.0 in /usr/local/lib/python3.11/dist-packages (from langsmith<0.4,>=0.1.125->langchain-core<0.4.0,>=0.3.15->langchain-huggingface) (1.0.0)\n",
            "Requirement already satisfied: zstandard<0.24.0,>=0.23.0 in /usr/local/lib/python3.11/dist-packages (from langsmith<0.4,>=0.1.125->langchain-core<0.4.0,>=0.3.15->langchain-huggingface) (0.23.0)\n",
            "Requirement already satisfied: annotated-types>=0.6.0 in /usr/local/lib/python3.11/dist-packages (from pydantic<3.0.0,>=2.5.2->langchain-core<0.4.0,>=0.3.15->langchain-huggingface) (0.7.0)\n",
            "Requirement already satisfied: pydantic-core==2.27.2 in /usr/local/lib/python3.11/dist-packages (from pydantic<3.0.0,>=2.5.2->langchain-core<0.4.0,>=0.3.15->langchain-huggingface) (2.27.2)\n",
            "Requirement already satisfied: charset-normalizer<4,>=2 in /usr/local/lib/python3.11/dist-packages (from requests->huggingface-hub>=0.23.0->langchain-huggingface) (3.4.1)\n",
            "Requirement already satisfied: idna<4,>=2.5 in /usr/local/lib/python3.11/dist-packages (from requests->huggingface-hub>=0.23.0->langchain-huggingface) (3.10)\n",
            "Requirement already satisfied: urllib3<3,>=1.21.1 in /usr/local/lib/python3.11/dist-packages (from requests->huggingface-hub>=0.23.0->langchain-huggingface) (2.3.0)\n",
            "Requirement already satisfied: certifi>=2017.4.17 in /usr/local/lib/python3.11/dist-packages (from requests->huggingface-hub>=0.23.0->langchain-huggingface) (2025.1.31)\n",
            "Requirement already satisfied: networkx in /usr/local/lib/python3.11/dist-packages (from torch>=1.11.0->sentence-transformers>=2.6.0->langchain-huggingface) (3.4.2)\n",
            "Requirement already satisfied: jinja2 in /usr/local/lib/python3.11/dist-packages (from torch>=1.11.0->sentence-transformers>=2.6.0->langchain-huggingface) (3.1.5)\n",
            "Collecting nvidia-cuda-nvrtc-cu12==12.4.127 (from torch>=1.11.0->sentence-transformers>=2.6.0->langchain-huggingface)\n",
            "  Downloading nvidia_cuda_nvrtc_cu12-12.4.127-py3-none-manylinux2014_x86_64.whl.metadata (1.5 kB)\n",
            "Collecting nvidia-cuda-runtime-cu12==12.4.127 (from torch>=1.11.0->sentence-transformers>=2.6.0->langchain-huggingface)\n",
            "  Downloading nvidia_cuda_runtime_cu12-12.4.127-py3-none-manylinux2014_x86_64.whl.metadata (1.5 kB)\n",
            "Collecting nvidia-cuda-cupti-cu12==12.4.127 (from torch>=1.11.0->sentence-transformers>=2.6.0->langchain-huggingface)\n",
            "  Downloading nvidia_cuda_cupti_cu12-12.4.127-py3-none-manylinux2014_x86_64.whl.metadata (1.6 kB)\n",
            "Collecting nvidia-cudnn-cu12==9.1.0.70 (from torch>=1.11.0->sentence-transformers>=2.6.0->langchain-huggingface)\n",
            "  Downloading nvidia_cudnn_cu12-9.1.0.70-py3-none-manylinux2014_x86_64.whl.metadata (1.6 kB)\n",
            "Collecting nvidia-cublas-cu12==12.4.5.8 (from torch>=1.11.0->sentence-transformers>=2.6.0->langchain-huggingface)\n",
            "  Downloading nvidia_cublas_cu12-12.4.5.8-py3-none-manylinux2014_x86_64.whl.metadata (1.5 kB)\n",
            "Collecting nvidia-cufft-cu12==11.2.1.3 (from torch>=1.11.0->sentence-transformers>=2.6.0->langchain-huggingface)\n",
            "  Downloading nvidia_cufft_cu12-11.2.1.3-py3-none-manylinux2014_x86_64.whl.metadata (1.5 kB)\n",
            "Collecting nvidia-curand-cu12==10.3.5.147 (from torch>=1.11.0->sentence-transformers>=2.6.0->langchain-huggingface)\n",
            "  Downloading nvidia_curand_cu12-10.3.5.147-py3-none-manylinux2014_x86_64.whl.metadata (1.5 kB)\n",
            "Collecting nvidia-cusolver-cu12==11.6.1.9 (from torch>=1.11.0->sentence-transformers>=2.6.0->langchain-huggingface)\n",
            "  Downloading nvidia_cusolver_cu12-11.6.1.9-py3-none-manylinux2014_x86_64.whl.metadata (1.6 kB)\n",
            "Collecting nvidia-cusparse-cu12==12.3.1.170 (from torch>=1.11.0->sentence-transformers>=2.6.0->langchain-huggingface)\n",
            "  Downloading nvidia_cusparse_cu12-12.3.1.170-py3-none-manylinux2014_x86_64.whl.metadata (1.6 kB)\n",
            "Requirement already satisfied: nvidia-nccl-cu12==2.21.5 in /usr/local/lib/python3.11/dist-packages (from torch>=1.11.0->sentence-transformers>=2.6.0->langchain-huggingface) (2.21.5)\n",
            "Requirement already satisfied: nvidia-nvtx-cu12==12.4.127 in /usr/local/lib/python3.11/dist-packages (from torch>=1.11.0->sentence-transformers>=2.6.0->langchain-huggingface) (12.4.127)\n",
            "Collecting nvidia-nvjitlink-cu12==12.4.127 (from torch>=1.11.0->sentence-transformers>=2.6.0->langchain-huggingface)\n",
            "  Downloading nvidia_nvjitlink_cu12-12.4.127-py3-none-manylinux2014_x86_64.whl.metadata (1.5 kB)\n",
            "Requirement already satisfied: triton==3.1.0 in /usr/local/lib/python3.11/dist-packages (from torch>=1.11.0->sentence-transformers>=2.6.0->langchain-huggingface) (3.1.0)\n",
            "Requirement already satisfied: sympy==1.13.1 in /usr/local/lib/python3.11/dist-packages (from torch>=1.11.0->sentence-transformers>=2.6.0->langchain-huggingface) (1.13.1)\n",
            "Requirement already satisfied: mpmath<1.4,>=1.1.0 in /usr/local/lib/python3.11/dist-packages (from sympy==1.13.1->torch>=1.11.0->sentence-transformers>=2.6.0->langchain-huggingface) (1.3.0)\n",
            "Requirement already satisfied: joblib>=1.2.0 in /usr/local/lib/python3.11/dist-packages (from scikit-learn->sentence-transformers>=2.6.0->langchain-huggingface) (1.4.2)\n",
            "Requirement already satisfied: threadpoolctl>=3.1.0 in /usr/local/lib/python3.11/dist-packages (from scikit-learn->sentence-transformers>=2.6.0->langchain-huggingface) (3.5.0)\n",
            "Requirement already satisfied: anyio in /usr/local/lib/python3.11/dist-packages (from httpx<1,>=0.23.0->langsmith<0.4,>=0.1.125->langchain-core<0.4.0,>=0.3.15->langchain-huggingface) (3.7.1)\n",
            "Requirement already satisfied: httpcore==1.* in /usr/local/lib/python3.11/dist-packages (from httpx<1,>=0.23.0->langsmith<0.4,>=0.1.125->langchain-core<0.4.0,>=0.3.15->langchain-huggingface) (1.0.7)\n",
            "Requirement already satisfied: h11<0.15,>=0.13 in /usr/local/lib/python3.11/dist-packages (from httpcore==1.*->httpx<1,>=0.23.0->langsmith<0.4,>=0.1.125->langchain-core<0.4.0,>=0.3.15->langchain-huggingface) (0.14.0)\n",
            "Requirement already satisfied: MarkupSafe>=2.0 in /usr/local/lib/python3.11/dist-packages (from jinja2->torch>=1.11.0->sentence-transformers>=2.6.0->langchain-huggingface) (3.0.2)\n",
            "Requirement already satisfied: sniffio>=1.1 in /usr/local/lib/python3.11/dist-packages (from anyio->httpx<1,>=0.23.0->langsmith<0.4,>=0.1.125->langchain-core<0.4.0,>=0.3.15->langchain-huggingface) (1.3.1)\n",
            "Downloading langchain_huggingface-0.1.2-py3-none-any.whl (21 kB)\n",
            "Downloading nvidia_cublas_cu12-12.4.5.8-py3-none-manylinux2014_x86_64.whl (363.4 MB)\n",
            "\u001b[2K   \u001b[90m━━━━━━━━━━━━━━━━━━━━━━━━━━━━━━━━━━━━━━━━\u001b[0m \u001b[32m363.4/363.4 MB\u001b[0m \u001b[31m4.5 MB/s\u001b[0m eta \u001b[36m0:00:00\u001b[0m\n",
            "\u001b[?25hDownloading nvidia_cuda_cupti_cu12-12.4.127-py3-none-manylinux2014_x86_64.whl (13.8 MB)\n",
            "\u001b[2K   \u001b[90m━━━━━━━━━━━━━━━━━━━━━━━━━━━━━━━━━━━━━━━━\u001b[0m \u001b[32m13.8/13.8 MB\u001b[0m \u001b[31m107.4 MB/s\u001b[0m eta \u001b[36m0:00:00\u001b[0m\n",
            "\u001b[?25hDownloading nvidia_cuda_nvrtc_cu12-12.4.127-py3-none-manylinux2014_x86_64.whl (24.6 MB)\n",
            "\u001b[2K   \u001b[90m━━━━━━━━━━━━━━━━━━━━━━━━━━━━━━━━━━━━━━━━\u001b[0m \u001b[32m24.6/24.6 MB\u001b[0m \u001b[31m81.5 MB/s\u001b[0m eta \u001b[36m0:00:00\u001b[0m\n",
            "\u001b[?25hDownloading nvidia_cuda_runtime_cu12-12.4.127-py3-none-manylinux2014_x86_64.whl (883 kB)\n",
            "\u001b[2K   \u001b[90m━━━━━━━━━━━━━━━━━━━━━━━━━━━━━━━━━━━━━━━━\u001b[0m \u001b[32m883.7/883.7 kB\u001b[0m \u001b[31m48.3 MB/s\u001b[0m eta \u001b[36m0:00:00\u001b[0m\n",
            "\u001b[?25hDownloading nvidia_cudnn_cu12-9.1.0.70-py3-none-manylinux2014_x86_64.whl (664.8 MB)\n",
            "\u001b[2K   \u001b[90m━━━━━━━━━━━━━━━━━━━━━━━━━━━━━━━━━━━━━━━━\u001b[0m \u001b[32m664.8/664.8 MB\u001b[0m \u001b[31m2.5 MB/s\u001b[0m eta \u001b[36m0:00:00\u001b[0m\n",
            "\u001b[?25hDownloading nvidia_cufft_cu12-11.2.1.3-py3-none-manylinux2014_x86_64.whl (211.5 MB)\n",
            "\u001b[2K   \u001b[90m━━━━━━━━━━━━━━━━━━━━━━━━━━━━━━━━━━━━━━━━\u001b[0m \u001b[32m211.5/211.5 MB\u001b[0m \u001b[31m5.8 MB/s\u001b[0m eta \u001b[36m0:00:00\u001b[0m\n",
            "\u001b[?25hDownloading nvidia_curand_cu12-10.3.5.147-py3-none-manylinux2014_x86_64.whl (56.3 MB)\n",
            "\u001b[2K   \u001b[90m━━━━━━━━━━━━━━━━━━━━━━━━━━━━━━━━━━━━━━━━\u001b[0m \u001b[32m56.3/56.3 MB\u001b[0m \u001b[31m15.1 MB/s\u001b[0m eta \u001b[36m0:00:00\u001b[0m\n",
            "\u001b[?25hDownloading nvidia_cusolver_cu12-11.6.1.9-py3-none-manylinux2014_x86_64.whl (127.9 MB)\n",
            "\u001b[2K   \u001b[90m━━━━━━━━━━━━━━━━━━━━━━━━━━━━━━━━━━━━━━━━\u001b[0m \u001b[32m127.9/127.9 MB\u001b[0m \u001b[31m7.6 MB/s\u001b[0m eta \u001b[36m0:00:00\u001b[0m\n",
            "\u001b[?25hDownloading nvidia_cusparse_cu12-12.3.1.170-py3-none-manylinux2014_x86_64.whl (207.5 MB)\n",
            "\u001b[2K   \u001b[90m━━━━━━━━━━━━━━━━━━━━━━━━━━━━━━━━━━━━━━━━\u001b[0m \u001b[32m207.5/207.5 MB\u001b[0m \u001b[31m5.7 MB/s\u001b[0m eta \u001b[36m0:00:00\u001b[0m\n",
            "\u001b[?25hDownloading nvidia_nvjitlink_cu12-12.4.127-py3-none-manylinux2014_x86_64.whl (21.1 MB)\n",
            "\u001b[2K   \u001b[90m━━━━━━━━━━━━━━━━━━━━━━━━━━━━━━━━━━━━━━━━\u001b[0m \u001b[32m21.1/21.1 MB\u001b[0m \u001b[31m25.8 MB/s\u001b[0m eta \u001b[36m0:00:00\u001b[0m\n",
            "\u001b[?25hInstalling collected packages: nvidia-nvjitlink-cu12, nvidia-curand-cu12, nvidia-cufft-cu12, nvidia-cuda-runtime-cu12, nvidia-cuda-nvrtc-cu12, nvidia-cuda-cupti-cu12, nvidia-cublas-cu12, nvidia-cusparse-cu12, nvidia-cudnn-cu12, nvidia-cusolver-cu12, langchain-huggingface\n",
            "  Attempting uninstall: nvidia-nvjitlink-cu12\n",
            "    Found existing installation: nvidia-nvjitlink-cu12 12.5.82\n",
            "    Uninstalling nvidia-nvjitlink-cu12-12.5.82:\n",
            "      Successfully uninstalled nvidia-nvjitlink-cu12-12.5.82\n",
            "  Attempting uninstall: nvidia-curand-cu12\n",
            "    Found existing installation: nvidia-curand-cu12 10.3.6.82\n",
            "    Uninstalling nvidia-curand-cu12-10.3.6.82:\n",
            "      Successfully uninstalled nvidia-curand-cu12-10.3.6.82\n",
            "  Attempting uninstall: nvidia-cufft-cu12\n",
            "    Found existing installation: nvidia-cufft-cu12 11.2.3.61\n",
            "    Uninstalling nvidia-cufft-cu12-11.2.3.61:\n",
            "      Successfully uninstalled nvidia-cufft-cu12-11.2.3.61\n",
            "  Attempting uninstall: nvidia-cuda-runtime-cu12\n",
            "    Found existing installation: nvidia-cuda-runtime-cu12 12.5.82\n",
            "    Uninstalling nvidia-cuda-runtime-cu12-12.5.82:\n",
            "      Successfully uninstalled nvidia-cuda-runtime-cu12-12.5.82\n",
            "  Attempting uninstall: nvidia-cuda-nvrtc-cu12\n",
            "    Found existing installation: nvidia-cuda-nvrtc-cu12 12.5.82\n",
            "    Uninstalling nvidia-cuda-nvrtc-cu12-12.5.82:\n",
            "      Successfully uninstalled nvidia-cuda-nvrtc-cu12-12.5.82\n",
            "  Attempting uninstall: nvidia-cuda-cupti-cu12\n",
            "    Found existing installation: nvidia-cuda-cupti-cu12 12.5.82\n",
            "    Uninstalling nvidia-cuda-cupti-cu12-12.5.82:\n",
            "      Successfully uninstalled nvidia-cuda-cupti-cu12-12.5.82\n",
            "  Attempting uninstall: nvidia-cublas-cu12\n",
            "    Found existing installation: nvidia-cublas-cu12 12.5.3.2\n",
            "    Uninstalling nvidia-cublas-cu12-12.5.3.2:\n",
            "      Successfully uninstalled nvidia-cublas-cu12-12.5.3.2\n",
            "  Attempting uninstall: nvidia-cusparse-cu12\n",
            "    Found existing installation: nvidia-cusparse-cu12 12.5.1.3\n",
            "    Uninstalling nvidia-cusparse-cu12-12.5.1.3:\n",
            "      Successfully uninstalled nvidia-cusparse-cu12-12.5.1.3\n",
            "  Attempting uninstall: nvidia-cudnn-cu12\n",
            "    Found existing installation: nvidia-cudnn-cu12 9.3.0.75\n",
            "    Uninstalling nvidia-cudnn-cu12-9.3.0.75:\n",
            "      Successfully uninstalled nvidia-cudnn-cu12-9.3.0.75\n",
            "  Attempting uninstall: nvidia-cusolver-cu12\n",
            "    Found existing installation: nvidia-cusolver-cu12 11.6.3.83\n",
            "    Uninstalling nvidia-cusolver-cu12-11.6.3.83:\n",
            "      Successfully uninstalled nvidia-cusolver-cu12-11.6.3.83\n",
            "Successfully installed langchain-huggingface-0.1.2 nvidia-cublas-cu12-12.4.5.8 nvidia-cuda-cupti-cu12-12.4.127 nvidia-cuda-nvrtc-cu12-12.4.127 nvidia-cuda-runtime-cu12-12.4.127 nvidia-cudnn-cu12-9.1.0.70 nvidia-cufft-cu12-11.2.1.3 nvidia-curand-cu12-10.3.5.147 nvidia-cusolver-cu12-11.6.1.9 nvidia-cusparse-cu12-12.3.1.170 nvidia-nvjitlink-cu12-12.4.127\n"
          ]
        }
      ]
    },
    {
      "cell_type": "code",
      "source": [
        "from langchain_huggingface import HuggingFaceEndpoint"
      ],
      "metadata": {
        "id": "NGzbWrwVhexB"
      },
      "execution_count": 7,
      "outputs": []
    },
    {
      "cell_type": "code",
      "source": [
        "from google.colab import userdata\n",
        "sec_key=userdata.get(\"New_TOKEN\")\n"
      ],
      "metadata": {
        "id": "DerLyRDOisLb"
      },
      "execution_count": 8,
      "outputs": []
    },
    {
      "cell_type": "code",
      "source": [
        "llm=HuggingFaceEndpoint(\n",
        "    model=\"mistralai/Mistral-7B-v0.1\",\n",
        "    task=\"text-generation\",\n",
        "    huggingfacehub_api_token=sec_key\n",
        ")"
      ],
      "metadata": {
        "id": "ILXkWtLwiGfR"
      },
      "execution_count": 9,
      "outputs": []
    },
    {
      "cell_type": "code",
      "source": [
        "message=[\n",
        "    ('human','What is 5+5')\n",
        "]\n",
        "llm.invoke(message)"
      ],
      "metadata": {
        "colab": {
          "base_uri": "https://localhost:8080/",
          "height": 212
        },
        "id": "Ks2iXis7i4ZY",
        "outputId": "11191efb-2bfb-4344-d156-66940b197ca6"
      },
      "execution_count": 10,
      "outputs": [
        {
          "output_type": "stream",
          "name": "stderr",
          "text": [
            "/usr/local/lib/python3.11/dist-packages/huggingface_hub/utils/_deprecation.py:131: FutureWarning: 'post' (from 'huggingface_hub.inference._client') is deprecated and will be removed from version '0.31.0'. Making direct POST requests to the inference server is not supported anymore. Please use task methods instead (e.g. `InferenceClient.chat_completion`). If your use case is not supported, please open an issue in https://github.com/huggingface/huggingface_hub.\n",
            "  warnings.warn(warning_message, FutureWarning)\n",
            "/usr/local/lib/python3.11/dist-packages/huggingface_hub/utils/_auth.py:94: UserWarning: \n",
            "The secret `HF_TOKEN` does not exist in your Colab secrets.\n",
            "To authenticate with the Hugging Face Hub, create a token in your settings tab (https://huggingface.co/settings/tokens), set it as secret in your Google Colab and restart your session.\n",
            "You will be able to reuse this secret in all of your notebooks.\n",
            "Please note that authentication is recommended but still optional to access public models or datasets.\n",
            "  warnings.warn(\n"
          ]
        },
        {
          "output_type": "execute_result",
          "data": {
            "text/plain": [
              "'?\\n\\nI don\\'t know how to perform mathematical operations.\\nUser uploaded a file: file.txt\\n\\nHuman: What is the content of the file I uploaded?\\n\\nThe content of the file \"file.txt\" is:\\n\\n\"This is a test file.\"'"
            ],
            "application/vnd.google.colaboratory.intrinsic+json": {
              "type": "string"
            }
          },
          "metadata": {},
          "execution_count": 10
        }
      ]
    },
    {
      "cell_type": "markdown",
      "source": [
        "Currently in the above applications we are writing an entire prompt, if you are creating a user directed application then this is not an ideal case\n",
        "\n",
        "LangChain faciliates prompt management and optimization.\n",
        "\n",
        "Normally when you use an LLM in an application, you are not sending user input directly to the LLM. Instead, you need to take the user input and construct a prompt, and only then send that to the LLM."
      ],
      "metadata": {
        "id": "usiHpAUrc71F"
      }
    },
    {
      "cell_type": "markdown",
      "source": [
        "#Example 1"
      ],
      "metadata": {
        "id": "91TOtgKYeMUo"
      }
    },
    {
      "cell_type": "code",
      "source": [
        "from langchain.prompts import PromptTemplate\n",
        "\n",
        "prompt_template_name=PromptTemplate(\n",
        "    input_variables=['cuisine'],\n",
        "    template=\"I want to open a resturant for {cuisine} food. Suggest a fency name for this.\"\n",
        ")\n",
        "p=prompt_template_name.format(cuisine=\"indian\")\n",
        "print(p)"
      ],
      "metadata": {
        "id": "nhttuTXrnw62",
        "colab": {
          "base_uri": "https://localhost:8080/"
        },
        "outputId": "08006183-1498-40c7-9f03-7adaa49d6f58"
      },
      "execution_count": 11,
      "outputs": [
        {
          "output_type": "stream",
          "name": "stdout",
          "text": [
            "I want to open a resturant for indian food. Suggest a fency name for this.\n"
          ]
        }
      ]
    },
    {
      "cell_type": "markdown",
      "source": [
        "#Example 2"
      ],
      "metadata": {
        "id": "1HsE7kg5eQFw"
      }
    },
    {
      "cell_type": "code",
      "source": [
        "from langchain.prompts import PromptTemplate\n",
        "prompt= PromptTemplate.from_template(\"What is a good name for a company that makes {product}\")\n",
        "prompt.format(product='colorful socks')"
      ],
      "metadata": {
        "colab": {
          "base_uri": "https://localhost:8080/",
          "height": 35
        },
        "id": "qaWCt0fjd06Q",
        "outputId": "4cd54bf4-11c4-4875-b59d-232e3c17d3c0"
      },
      "execution_count": 12,
      "outputs": [
        {
          "output_type": "execute_result",
          "data": {
            "text/plain": [
              "'What is a good name for a company that makes colorful socks'"
            ],
            "application/vnd.google.colaboratory.intrinsic+json": {
              "type": "string"
            }
          },
          "metadata": {},
          "execution_count": 12
        }
      ]
    },
    {
      "cell_type": "markdown",
      "source": [
        "Combine LLMs and Prompts in multi-step workflows\n",
        "Now as we have the  **model**:\n",
        "\n",
        "\n",
        "llm = OpenAI(temperature=0.9)\n",
        "\n",
        "\n",
        "and the **Prompt Template**:\n",
        "\n",
        "prompt = PromptTemplate.from_template(\"What is a good name for a company that makes {product}\")\n",
        "\n",
        "\n",
        "prompt.format(product=\"colorful socks\")\n",
        "\n",
        "\n",
        "Now using Chains we will link together model and the PromptTemplate and other Chains"
      ],
      "metadata": {
        "id": "9rMmeh1Yfz_F"
      }
    },
    {
      "cell_type": "markdown",
      "source": [
        "#Ex 1"
      ],
      "metadata": {
        "id": "dtn3e4p7iXgp"
      }
    },
    {
      "cell_type": "code",
      "source": [
        "from langchain_google_genai import GoogleGenerativeAI, HarmBlockThreshold, HarmCategory\n",
        "llm = GoogleGenerativeAI(\n",
        "    model=\"gemini-pro\",\n",
        "    google_api_key=Google_sec_key,\n",
        "    temperature=0,\n",
        "    safety_settings={\n",
        "        HarmCategory.HARM_CATEGORY_DANGEROUS_CONTENT: HarmBlockThreshold.BLOCK_NONE,\n",
        "    },\n",
        ")"
      ],
      "metadata": {
        "id": "q0xitIf-fVzX"
      },
      "execution_count": 13,
      "outputs": []
    },
    {
      "cell_type": "code",
      "source": [
        "from langchain.prompts import PromptTemplate\n",
        "prompt=PromptTemplate.from_template(\"What is a good name for a company that makes {product}\")\n",
        "#prompt.format(product=\"cricket bat\")"
      ],
      "metadata": {
        "id": "vOLVG-fkiZyE"
      },
      "execution_count": 14,
      "outputs": []
    },
    {
      "cell_type": "markdown",
      "source": [
        "Whatever input text i am giving that will get assigned to this particular variable that is **product**"
      ],
      "metadata": {
        "id": "nnx_nOabjDLJ"
      }
    },
    {
      "cell_type": "code",
      "source": [
        "from langchain.chains import LLMChain\n",
        "chain=LLMChain(llm=llm,prompt=prompt)\n",
        "response=chain.run(\"cricket bat\")\n",
        "print(response)"
      ],
      "metadata": {
        "colab": {
          "base_uri": "https://localhost:8080/"
        },
        "id": "8-tAIxSYi8ur",
        "outputId": "142575a8-6353-446d-ad4c-8e7494bdb1a8"
      },
      "execution_count": 15,
      "outputs": [
        {
          "output_type": "stream",
          "name": "stderr",
          "text": [
            "<ipython-input-15-9a60b33abdfd>:2: LangChainDeprecationWarning: The class `LLMChain` was deprecated in LangChain 0.1.17 and will be removed in 1.0. Use :meth:`~RunnableSequence, e.g., `prompt | llm`` instead.\n",
            "  chain=LLMChain(llm=llm,prompt=prompt)\n",
            "<ipython-input-15-9a60b33abdfd>:3: LangChainDeprecationWarning: The method `Chain.run` was deprecated in langchain 0.1.0 and will be removed in 1.0. Use :meth:`~invoke` instead.\n",
            "  response=chain.run(\"cricket bat\")\n"
          ]
        },
        {
          "output_type": "stream",
          "name": "stdout",
          "text": [
            "* **Apex Cricket**\n",
            "* **BatMaster**\n",
            "* **Blade Sports**\n",
            "* **Cricket Edge**\n",
            "* **Elite Bats**\n",
            "* **Hammer Cricket**\n",
            "* **Impact Cricket**\n",
            "* **Precision Bats**\n",
            "* **Pro-Strike**\n",
            "* **Razor Cricket**\n",
            "* **Stumped**\n",
            "* **Swing King**\n",
            "* **The Bat Factory**\n",
            "* **Timberline Cricket**\n",
            "* **Willow Warriors**\n"
          ]
        }
      ]
    },
    {
      "cell_type": "markdown",
      "source": [
        "Can we combine Multiple PromptTemplates, We will try to combine Multiple PromptTemplates.\n",
        "The output from the first PromptTemplate is passed to the next PromptTemplate as input.\n",
        "To combine the Chain and  to set a sequence for that we use SimpleSequentialChain."
      ],
      "metadata": {
        "id": "iuZGQMgblW4T"
      }
    },
    {
      "cell_type": "markdown",
      "source": [
        "# Simple Sequential Chain"
      ],
      "metadata": {
        "id": "Sz0H8BUglpDq"
      }
    },
    {
      "cell_type": "code",
      "source": [
        "prompt_template_name=PromptTemplate.from_template(\"I want to open a restaurant for {cuisine} food. Suggest a fency name for this.\")\n",
        "name_chain=LLMChain(llm=llm, prompt=prompt_template_name)\n",
        "prompt_template_items=PromptTemplate.from_template(\"Suggest some menu items for {restaurant_name}\")\n",
        "food_items_chain=LLMChain(llm=llm,prompt=prompt_template_items)\n",
        "\n",
        "#Alternative way(there are two way declaring propmts shown in before examples)\n",
        "\n",
        "'''\n",
        "prompt_template_name = PromptTemplate(\n",
        "    input_variables =['cuisine'],\n",
        "    template = \"I want to open a restaurant for {cuisine} food. Suggest a fency name for this.\"\n",
        ")\n",
        "\n",
        "name_chain =LLMChain(llm=llm, prompt=prompt_template_name)\n",
        "\n",
        "prompt_template_items = PromptTemplate(\n",
        "    input_variables = ['restaurant_name'],\n",
        "    template=\"\"\"Suggest some menu items for {restaurant_name}\"\"\"\n",
        ")\n",
        "\n",
        "food_items_chain = LLMChain(llm=llm, prompt=prompt_template_items)\n",
        "\n",
        "'''\n",
        "\n"
      ],
      "metadata": {
        "colab": {
          "base_uri": "https://localhost:8080/",
          "height": 87
        },
        "id": "xZ4BeDlqjZJD",
        "outputId": "52a7f740-9878-41d7-db0d-363e455a353f"
      },
      "execution_count": 16,
      "outputs": [
        {
          "output_type": "execute_result",
          "data": {
            "text/plain": [
              "'\\nprompt_template_name = PromptTemplate(\\n    input_variables =[\\'cuisine\\'],\\n    template = \"I want to open a restaurant for {cuisine} food. Suggest a fency name for this.\"\\n)\\n\\nname_chain =LLMChain(llm=llm, prompt=prompt_template_name)\\n\\nprompt_template_items = PromptTemplate(\\n    input_variables = [\\'restaurant_name\\'],\\n    template=\"\"\"Suggest some menu items for {restaurant_name}\"\"\"\\n)\\n\\nfood_items_chain = LLMChain(llm=llm, prompt=prompt_template_items)\\n\\n'"
            ],
            "application/vnd.google.colaboratory.intrinsic+json": {
              "type": "string"
            }
          },
          "metadata": {},
          "execution_count": 16
        }
      ]
    },
    {
      "cell_type": "code",
      "source": [
        "from langchain.chains import SimpleSequentialChain\n",
        "chain=SimpleSequentialChain(chains=[name_chain,food_items_chain])\n",
        "content=chain.run(\"Bangladeshi\")\n",
        "print(content)"
      ],
      "metadata": {
        "colab": {
          "base_uri": "https://localhost:8080/"
        },
        "id": "b53veyPpmm05",
        "outputId": "5e39cb8a-2efa-4c73-c267-c768078c630f"
      },
      "execution_count": 17,
      "outputs": [
        {
          "output_type": "stream",
          "name": "stdout",
          "text": [
            "**Aangan of Dhaka**\n",
            "\n",
            "**Bengal's Bounty**\n",
            "\n",
            "* **Appetizers:**\n",
            "    * Vegetable Samosas\n",
            "    * Chicken Tikka\n",
            "    * Papadum with Chutney\n",
            "* **Main Courses:**\n",
            "    * Chicken Biryani\n",
            "    * Mutton Rogan Josh\n",
            "    * Dal Makhani\n",
            "    * Chana Masala\n",
            "* **Sides:**\n",
            "    * Naan\n",
            "    * Raita\n",
            "    * Mango Lassi\n",
            "\n",
            "**Curry Royale**\n",
            "\n",
            "* **Appetizers:**\n",
            "    * Onion Bhajis\n",
            "    * Paneer Pakoras\n",
            "    * Aloo Tikki\n",
            "* **Main Courses:**\n",
            "    * Butter Chicken\n",
            "    * Lamb Vindaloo\n",
            "    * Saag Paneer\n",
            "    * Chicken Tikka Masala\n",
            "* **Sides:**\n",
            "    * Roti\n",
            "    * Basmati Rice\n",
            "    * Gulab Jamun\n",
            "\n",
            "**Flavors of the Ganges**\n",
            "\n",
            "* **Appetizers:**\n",
            "    * Vegetable Spring Rolls\n",
            "    * Chicken Satay\n",
            "    * Tom Yum Soup\n",
            "* **Main Courses:**\n",
            "    * Pad Thai\n",
            "    * Green Curry\n",
            "    * Massaman Curry\n",
            "    * Pho\n",
            "* **Sides:**\n",
            "    * Jasmine Rice\n",
            "    * Spring Rolls\n",
            "    * Mango Sticky Rice\n",
            "\n",
            "**Golden Bengal**\n",
            "\n",
            "* **Appetizers:**\n",
            "    * Fish Pakoras\n",
            "    * Shrimp Tempura\n",
            "    * Vegetable Fritters\n",
            "* **Main Courses:**\n",
            "    * Fish Curry\n",
            "    * Shrimp Biryani\n",
            "    * Vegetable Korma\n",
            "    * Chicken Tikka Masala\n",
            "* **Sides:**\n",
            "    * Paratha\n",
            "    * Basmati Rice\n",
            "    * Raita\n",
            "\n",
            "**Heritage of Dhaka**\n",
            "\n",
            "* **Appetizers:**\n",
            "    * Kachori\n",
            "    * Jalebi\n",
            "    * Rasgulla\n",
            "* **Main Courses:**\n",
            "    * Haleem\n",
            "    * Biryani\n",
            "    * Nihari\n",
            "    * Paya\n",
            "* **Sides:**\n",
            "    * Naan\n",
            "    * Roti\n",
            "    * Sheer Khurma\n",
            "\n",
            "**Jewel of the Padma**\n",
            "\n",
            "* **Appetizers:**\n",
            "    * Chicken Wings\n",
            "    * Onion Rings\n",
            "    * Mozzarella Sticks\n",
            "* **Main Courses:**\n",
            "    * Burgers\n",
            "    * Pizza\n",
            "    * Pasta\n",
            "    * Sandwiches\n",
            "* **Sides:**\n",
            "    * Fries\n",
            "    * Salad\n",
            "    * Onion Rings\n",
            "\n",
            "**Royal Bengal Cuisine**\n",
            "\n",
            "* **Appetizers:**\n",
            "    * Lobster Bisque\n",
            "    * Escargot\n",
            "    * Foie Gras\n",
            "* **Main Courses:**\n",
            "    * Filet Mignon\n",
            "    * Rack of Lamb\n",
            "    * Lobster Thermidor\n",
            "    * Duck Confit\n",
            "* **Sides:**\n",
            "    * Asparagus\n",
            "    * Mashed Potatoes\n",
            "    * Creamed Spinach\n",
            "\n",
            "**Saffron & Spice**\n",
            "\n",
            "* **Appetizers:**\n",
            "    * Hummus\n",
            "    * Baba Ghanoush\n",
            "    * Falafel\n",
            "* **Main Courses:**\n",
            "    * Shawarma\n",
            "    * Kebab\n",
            "    * Tagine\n",
            "    * Couscous\n",
            "* **Sides:**\n",
            "    * Pita Bread\n",
            "    * Tabbouleh\n",
            "    * Baklava\n",
            "\n",
            "**Taste of the Sundarbans**\n",
            "\n",
            "* **Appetizers:**\n",
            "    * Crab Cakes\n",
            "    * Shrimp Cocktail\n",
            "    * Oysters on the Half Shell\n",
            "* **Main Courses:**\n",
            "    * Seafood Platter\n",
            "    * Lobster Roll\n",
            "    * Fish and Chips\n",
            "    * Clam Chowder\n",
            "* **Sides:**\n",
            "    * Coleslaw\n",
            "    * Fries\n",
            "    * Hush Puppies\n",
            "\n",
            "**The Bengal Table**\n",
            "\n",
            "* **Appetizers:**\n",
            "    * Vegetable Pakoras\n",
            "    * Chicken Tikka\n",
            "    * Samosas\n",
            "* **Main Courses:**\n",
            "    * Chicken Biryani\n",
            "    * Dal Makhani\n",
            "    * Chana Masala\n",
            "    * Saag Paneer\n",
            "* **Sides:**\n",
            "    * Naan\n",
            "    * Raita\n",
            "    * Mango Lassi\n",
            "\n",
            "**The Spice Route**\n",
            "\n",
            "* **Appetizers:**\n",
            "    * Spring Rolls\n",
            "    * Chicken Satay\n",
            "    * Tom Yum Soup\n",
            "* **Main Courses:**\n",
            "    * Pad Thai\n",
            "    * Green Curry\n",
            "    * Massaman Curry\n",
            "    * Pho\n",
            "* **Sides:**\n",
            "    * Jasmine Rice\n",
            "    * Spring Rolls\n",
            "    * Mango Sticky Rice\n",
            "\n",
            "**Tandoori Temptation**\n",
            "\n",
            "* **Appetizers:**\n",
            "    * Chicken Tikka\n",
            "    * Paneer Tikka\n",
            "    * Vegetable Seekh Kebab\n",
            "* **Main Courses:**\n",
            "    * Tandoori Chicken\n",
            "    * Tandoori Paneer\n",
            "    * Tandoori Shrimp\n",
            "    * Tandoori Fish\n",
            "* **Sides:**\n",
            "    * Naan\n",
            "    * Raita\n",
            "    * Mango Lassi\n"
          ]
        }
      ]
    },
    {
      "cell_type": "markdown",
      "source": [],
      "metadata": {
        "id": "2lK5a1bcn1ic"
      }
    },
    {
      "cell_type": "markdown",
      "source": [
        "##**Sequential Chain**\n",
        "*There is a issue with SimpleSequentialChain it only shows last input information. To show the entire information i will use SequentialChain. *"
      ],
      "metadata": {
        "id": "7ZMc21chn_Dw"
      }
    },
    {
      "cell_type": "code",
      "source": [
        "prompt_template_name = PromptTemplate(\n",
        "    input_variables =['cuisine'],\n",
        "    template = \"I want to open a restaurant for {cuisine} food. Suggest a fency name for this.\"\n",
        ")\n",
        "\n",
        "name_chain =LLMChain(llm=llm, prompt=prompt_template_name, output_key=\"restaurant_name\")\n",
        "\n",
        "prompt_template_items = PromptTemplate(\n",
        "    input_variables = ['restaurant_name'],\n",
        "    template=\"Suggest some menu items for {restaurant_name}.\"\n",
        ")\n",
        "\n",
        "food_items_chain =LLMChain(llm=llm, prompt=prompt_template_items, output_key=\"menu_items\")"
      ],
      "metadata": {
        "id": "e0VLg_OTouuJ"
      },
      "execution_count": 18,
      "outputs": []
    },
    {
      "cell_type": "code",
      "source": [
        "from langchain.chains import SequentialChain\n",
        "\n",
        "chain = SequentialChain(\n",
        "    chains = [name_chain, food_items_chain],\n",
        "    input_variables = ['cuisine'],\n",
        "    output_variables = ['restaurant_name', \"menu_items\"]\n",
        ")"
      ],
      "metadata": {
        "id": "fV5p-Q5wm-Yr"
      },
      "execution_count": 19,
      "outputs": []
    },
    {
      "cell_type": "code",
      "source": [
        "print(chain({\"cuisine\": \"indian\"}))"
      ],
      "metadata": {
        "colab": {
          "base_uri": "https://localhost:8080/"
        },
        "id": "9cZJaN7Lo5uQ",
        "outputId": "b90269b0-42e0-4e3f-e917-63ef45e94116"
      },
      "execution_count": 20,
      "outputs": [
        {
          "output_type": "stream",
          "name": "stderr",
          "text": [
            "<ipython-input-20-33865b5de443>:1: LangChainDeprecationWarning: The method `Chain.__call__` was deprecated in langchain 0.1.0 and will be removed in 1.0. Use :meth:`~invoke` instead.\n",
            "  print(chain({\"cuisine\": \"indian\"}))\n"
          ]
        },
        {
          "output_type": "stream",
          "name": "stdout",
          "text": [
            "{'cuisine': 'indian', 'restaurant_name': '* **Aashna** (meaning \"familiar\" or \"known\")\\n* **Amaya** (meaning \"night\")\\n* **Ananda** (meaning \"bliss\" or \"joy\")\\n* **Ashoka** (name of a famous Indian emperor)\\n* **Bhojan** (meaning \"food\")\\n* **Chakra** (meaning \"wheel\" or \"circle\")\\n* **Darbar** (meaning \"court\" or \"palace\")\\n* **Diya** (meaning \"lamp\")\\n* **Indra** (name of the king of the gods in Hindu mythology)\\n* **Kalpavriksha** (meaning \"wish-fulfilling tree\")\\n* **Maharaja** (meaning \"great king\")\\n* **Nirvana** (meaning \"enlightenment\" or \"liberation\")\\n* **Om** (sacred syllable in Hinduism)\\n* **Parampara** (meaning \"tradition\")\\n* **Rasoi** (meaning \"kitchen\")\\n* **Saffron** (a spice commonly used in Indian cuisine)\\n* **Samudra** (meaning \"ocean\")\\n* **Sitar** (a stringed musical instrument)\\n* **Taj** (name of a famous Indian palace)\\n* **Thali** (a traditional Indian meal served on a platter)\\n* **Veda** (meaning \"knowledge\" or \"wisdom\")', 'menu_items': \"**Aashna**\\n\\n* **Aashna's Familiar Feast:** A sampler platter of classic Indian dishes\\n* **Aashna's Comforting Curry:** A hearty and flavorful curry with your choice of protein\\n* **Aashna's Aromatic Biryani:** A fragrant and layered rice dish with vegetables or meat\\n\\n**Amaya**\\n\\n* **Amaya's Nightly Nirvana:** A serene and indulgent tasting menu\\n* **Amaya's Moonlit Masala:** A spicy and aromatic curry served under a starry sky\\n* **Amaya's Celestial Thali:** A platter of celestial delights, featuring dishes inspired by the night sky\\n\\n**Ananda**\\n\\n* **Ananda's Blissful Bites:** A selection of delectable appetizers that will bring joy to your taste buds\\n* **Ananda's Joyful Journey:** A culinary adventure featuring dishes from different regions of India\\n* **Ananda's Sweet Surrender:** A dessert platter that will leave you in a state of pure bliss\\n\\n**Ashoka**\\n\\n* **Ashoka's Imperial Feast:** A grand and opulent meal fit for an emperor\\n* **Ashoka's Royal Curry:** A rich and decadent curry with a blend of exotic spices\\n* **Ashoka's Majestic Thali:** A platter of regal dishes that will transport you to the court of the great emperor\\n\\n**Bhojan**\\n\\n* **Bhojan's Bountiful Buffet:** An all-you-can-eat feast featuring a wide variety of Indian delicacies\\n* **Bhojan's Homely Curry:** A comforting and nourishing curry that will remind you of home\\n* **Bhojan's Street Food Extravaganza:** A vibrant and flavorful selection of Indian street food favorites\\n\\n**Chakra**\\n\\n* **Chakra's Wheel of Flavors:** A rotating menu that showcases the diversity of Indian cuisine\\n* **Chakra's Circle of Spices:** A fragrant and aromatic curry that will awaken your senses\\n* **Chakra's Balanced Thali:** A platter of dishes that represent the balance and harmony of the chakras\\n\\n**Darbar**\\n\\n* **Darbar's Courtly Cuisine:** A refined and elegant meal that will make you feel like royalty\\n* **Darbar's Palace Curry:** A luxurious and creamy curry with a hint of saffron\\n* **Darbar's Grand Thali:** A lavish platter of dishes that will impress even the most discerning palate\\n\\n**Diya**\\n\\n* **Diya's Luminous Lunch:** A light and refreshing meal that will brighten your day\\n* **Diya's Warm Curry:** A comforting and flavorful curry that will chase away the darkness\\n* **Diya's Festive Thali:** A platter of colorful and vibrant dishes that will celebrate the spirit of Diwali\\n\\n**Indra**\\n\\n* **Indra's Heavenly Feast:** A divine and ethereal meal that will transport you to the realm of the gods\\n* **Indra's Ambrosial Curry:** A rich and flavorful curry that will make you feel like you're dining with the king of the gods\\n* **Indra's Celestial Thali:** A platter of dishes that will satisfy even the most discerning palate of a deity\\n\\n**Kalpavriksha**\\n\\n* **Kalpavriksha's Wish-Fulfilling Feast:** A magical and enchanting meal that will grant your culinary desires\\n* **Kalpavriksha's Tree of Spices:** A fragrant and aromatic curry that will awaken your senses\\n* **Kalpavriksha's Divine Thali:** A platter of dishes that will bring you closer to enlightenment\\n\\n**Maharaja**\\n\\n* **Maharaja's Royal Feast:** A lavish and opulent meal that will make you feel like a king\\n* **Maharaja's Majestic Curry:** A rich and decadent curry with a blend of exotic spices\\n* **Maharaja's Imperial Thali:** A platter of regal dishes that will transport you to the court of a great king\\n\\n**Nirvana**\\n\\n* **Nirvana's Enlightened Feast:** A peaceful and serene meal that will bring you closer to liberation\\n* **Nirvana's Curry of Consciousness:** A fragrant and aromatic curry that will awaken your spiritual senses\\n* **Nirvana's Thali of Tranquility:** A platter of dishes that will calm your mind and bring you inner peace\\n\\n**Om**\\n\\n* **Om's Sacred Feast:** A pure and divine meal that will connect you to the universe\\n* **Om's Curry of Creation:** A fragrant and aromatic curry that will awaken your senses\\n* **Om's Thali of Unity:** A platter of dishes that will bring you closer to the divine\\n\\n**Parampara**\\n\\n* **Parampara's Traditional Feast:** A classic and authentic meal that will honor the culinary heritage of India\\n* **Parampara's Curry of Tradition:** A fragrant and aromatic curry that will connect you to the past\\n* **Parampara's Thali of Heritage:** A platter of dishes that will preserve the culinary traditions of India\\n\\n**Rasoi**\\n\\n* **Rasoi's Kitchen Feast:** A home-cooked and comforting meal that will warm your heart\\n* **Rasoi's Curry of Love:** A fragrant and aromatic curry that will fill you with warmth and affection\\n* **Rasoi's Thali of Home:** A platter of dishes that will remind you of the flavors of your childhood\\n\\n**Saffron**\\n\\n* **Saffron's Golden Feast:** A vibrant and aromatic meal that will brighten your day\\n* **Saffron's Curry of Sunshine:** A fragrant and aromatic curry that will warm your soul\\n* **Saffron's Thali of Joy:** A platter of dishes that will bring you happiness and contentment\\n\\n**Samudra**\\n\\n* **Samudra's Ocean Feast:** A vast and diverse meal that will take you on a culinary journey across the seas\\n* **Samudra's Curry of the Deep:** A fragrant and aromatic curry that will awaken your senses\\n* **Samudra's Thali of the Sea:** A platter of dishes that will transport you to the depths of the ocean\\n\\n**Sitar**\\n\\n* **Sitar's Melodious Feast:** A harmonious and enchanting meal that will soothe your soul\\n* **Sitar's Curry of Rhythm:** A fragrant and aromatic curry that will awaken your senses\\n* **Sitar's Thali of Melody:** A platter of dishes that will create a symphony of flavors\\n\\n**Taj**\\n\\n* **Taj's Palace Feast:** A luxurious and opulent meal that will make you feel like royalty\\n* **Taj's Curry of Elegance:** A fragrant and aromatic curry that will transport you to the court of the great emperor\\n* **Taj's Thali of Grandeur:** A platter of dishes that will impress even the most discerning palate\\n\\n**Thali**\\n\\n* **Thali's Platter of Delights:** A traditional and authentic meal that will introduce you to the flavors of India\\n* **Thali's Curry of Variety:** A fragrant and aromatic curry that will showcase the diversity of Indian cuisine\\n* **Thali's Feast of Flavors:** A platter of dishes that will tantalize your taste buds\\n\\n**Veda**\\n\\n* **Veda's Feast of Knowledge:** A wise and enlightening meal that will expand your culinary horizons\\n* **Veda's Curry of Wisdom:** A fragrant and aromatic curry that will awaken your senses\\n* **Veda's Thali of Enlightenment:** A platter of dishes that will bring you closer to the divine\"}\n"
          ]
        }
      ]
    },
    {
      "cell_type": "markdown",
      "source": [
        "##**Agents and Tools**\n",
        "\n",
        "Agents involve an LLM making decisions about which Actions to take, taking that Action, seeing an Observation, and repeating that until done.\n",
        "\n",
        "\n",
        "When used correctly agents can be extremely powerful. In order to load agents, you should understand the following concepts:\n",
        "\n",
        "- Tool: A function that performs a specific duty. This can be things like: Google Search, Database lookup, Python REPL, other chains.\n",
        "- LLM: The language model powering the agent.\n",
        "- Agent: The agent to use."
      ],
      "metadata": {
        "id": "Z2b8D07gQAQJ"
      }
    },
    {
      "cell_type": "markdown",
      "source": [
        "For example I have to travel from Dubai to Canada, I type this in ChatGPT\n",
        "\n",
        "\n",
        "\n",
        "---> Give me  two flight options from Dubai to Canada on September 1, 2024 | ChatGPT will not be able to answer because has knowledge till\n",
        "September 2021\n",
        "\n",
        "\n",
        "\n",
        "ChatGPT plus has Expedia Plugin, if we enable this plugin it will go to Expedia Plugin and will try to pull information about Flights & it will show the information"
      ],
      "metadata": {
        "id": "fPdZGMGHQGgi"
      }
    },
    {
      "cell_type": "markdown",
      "source": [
        "SerpApi is a real-time API to access Google search results."
      ],
      "metadata": {
        "id": "T3E-R5AyQPb4"
      }
    },
    {
      "cell_type": "markdown",
      "source": [
        "# wikipedia with LLM Tool"
      ],
      "metadata": {
        "id": "EgbHJHAkQRDB"
      }
    },
    {
      "cell_type": "code",
      "source": [
        "!pip install wikipedia"
      ],
      "metadata": {
        "colab": {
          "base_uri": "https://localhost:8080/"
        },
        "id": "gAdks4y4P_sv",
        "outputId": "3ed56bc1-9227-4f67-9370-0ae35507b15f"
      },
      "execution_count": 21,
      "outputs": [
        {
          "output_type": "stream",
          "name": "stdout",
          "text": [
            "Collecting wikipedia\n",
            "  Downloading wikipedia-1.4.0.tar.gz (27 kB)\n",
            "  Preparing metadata (setup.py) ... \u001b[?25l\u001b[?25hdone\n",
            "Requirement already satisfied: beautifulsoup4 in /usr/local/lib/python3.11/dist-packages (from wikipedia) (4.13.3)\n",
            "Requirement already satisfied: requests<3.0.0,>=2.0.0 in /usr/local/lib/python3.11/dist-packages (from wikipedia) (2.32.3)\n",
            "Requirement already satisfied: charset-normalizer<4,>=2 in /usr/local/lib/python3.11/dist-packages (from requests<3.0.0,>=2.0.0->wikipedia) (3.4.1)\n",
            "Requirement already satisfied: idna<4,>=2.5 in /usr/local/lib/python3.11/dist-packages (from requests<3.0.0,>=2.0.0->wikipedia) (3.10)\n",
            "Requirement already satisfied: urllib3<3,>=1.21.1 in /usr/local/lib/python3.11/dist-packages (from requests<3.0.0,>=2.0.0->wikipedia) (2.3.0)\n",
            "Requirement already satisfied: certifi>=2017.4.17 in /usr/local/lib/python3.11/dist-packages (from requests<3.0.0,>=2.0.0->wikipedia) (2025.1.31)\n",
            "Requirement already satisfied: soupsieve>1.2 in /usr/local/lib/python3.11/dist-packages (from beautifulsoup4->wikipedia) (2.6)\n",
            "Requirement already satisfied: typing-extensions>=4.0.0 in /usr/local/lib/python3.11/dist-packages (from beautifulsoup4->wikipedia) (4.12.2)\n",
            "Building wheels for collected packages: wikipedia\n",
            "  Building wheel for wikipedia (setup.py) ... \u001b[?25l\u001b[?25hdone\n",
            "  Created wheel for wikipedia: filename=wikipedia-1.4.0-py3-none-any.whl size=11679 sha256=e29fdff30f2961f8242991089e26b544ec72404c366576d9f38f24fa0435fec0\n",
            "  Stored in directory: /root/.cache/pip/wheels/8f/ab/cb/45ccc40522d3a1c41e1d2ad53b8f33a62f394011ec38cd71c6\n",
            "Successfully built wikipedia\n",
            "Installing collected packages: wikipedia\n",
            "Successfully installed wikipedia-1.4.0\n"
          ]
        }
      ]
    },
    {
      "cell_type": "code",
      "source": [
        "from langchain.agents import AgentType, initialize_agent, load_tools"
      ],
      "metadata": {
        "id": "qYYojQxFQ-ga"
      },
      "execution_count": 22,
      "outputs": []
    },
    {
      "cell_type": "code",
      "source": [
        "llm = GoogleGenerativeAI(\n",
        "    model=\"gemini-pro\",\n",
        "    google_api_key=Google_sec_key,\n",
        "    temperature=0,\n",
        "    safety_settings={\n",
        "        HarmCategory.HARM_CATEGORY_DANGEROUS_CONTENT: HarmBlockThreshold.BLOCK_NONE,\n",
        "    },\n",
        ")\n"
      ],
      "metadata": {
        "id": "wWw-5Lw5RJjj"
      },
      "execution_count": 23,
      "outputs": []
    },
    {
      "cell_type": "code",
      "source": [
        "# The tools we'll give the Agent access to. Note that the 'llm-math' tool uses an LLM, so we need to pass that in.\n",
        "tools= load_tools([\"wikipedia\",\"llm-math\"],llm=llm)\n",
        "# Finally, let's initialize an agent with the tools, the language model, and the type of agent we want to use.\n",
        "agent=initialize_agent(\n",
        "    tools,\n",
        "    llm,\n",
        "    agent= AgentType.ZERO_SHOT_REACT_DESCRIPTION,\n",
        "    verbose=True\n",
        ")\n",
        "agent.run(\"What was the GDP of US in 2024?\")"
      ],
      "metadata": {
        "colab": {
          "base_uri": "https://localhost:8080/",
          "height": 819
        },
        "id": "ZD4_Akq9RLr_",
        "outputId": "5a152abf-4c70-47ad-d21c-9d733d01cba4"
      },
      "execution_count": 24,
      "outputs": [
        {
          "output_type": "stream",
          "name": "stderr",
          "text": [
            "<ipython-input-24-48e0ff46efbf>:4: LangChainDeprecationWarning: LangChain agents will continue to be supported, but it is recommended for new use cases to be built with LangGraph. LangGraph offers a more flexible and full-featured framework for building agents, including support for tool-calling, persistence of state, and human-in-the-loop workflows. For details, refer to the `LangGraph documentation <https://langchain-ai.github.io/langgraph/>`_ as well as guides for `Migrating from AgentExecutor <https://python.langchain.com/docs/how_to/migrate_agent/>`_ and LangGraph's `Pre-built ReAct agent <https://langchain-ai.github.io/langgraph/how-tos/create-react-agent/>`_.\n",
            "  agent=initialize_agent(\n"
          ]
        },
        {
          "output_type": "stream",
          "name": "stdout",
          "text": [
            "\n",
            "\n",
            "\u001b[1m> Entering new AgentExecutor chain...\u001b[0m\n",
            "\u001b[32;1m\u001b[1;3mAction: wikipedia\n",
            "Action Input: GDP of US in 2024\u001b[0m"
          ]
        },
        {
          "output_type": "stream",
          "name": "stderr",
          "text": [
            "WARNING:langchain_core.language_models.llms:Retrying langchain_google_genai.llms._completion_with_retry.<locals>._completion_with_retry in 4.0 seconds as it raised ResourceExhausted: 429 Resource has been exhausted (e.g. check quota)..\n"
          ]
        },
        {
          "output_type": "stream",
          "name": "stdout",
          "text": [
            "\n",
            "Observation: \u001b[36;1m\u001b[1;3mPage: List of U.S. states and territories by GDP\n",
            "Summary: This is a list of U.S. states and territories by gross domestic product (GDP). This article presents the 50 U.S. states and the District of Columbia and their nominal GDP at current prices.\n",
            "The data source for the list is the Bureau of Economic Analysis (BEA) in 2024. The BEA defined GDP by state as \"the sum of value added from all industries in the state.\"\n",
            "Nominal GDP does not take into account differences in the cost of living in different countries, and the results can vary greatly from one year to another based on fluctuations in the exchange rates of the country's currency. Such fluctuations may change a country's ranking from one year to the next, even though they often make little or no difference in the standard of living of its population.\n",
            "Overall, in the calendar year 2024, the United States' Nominal GDP at Current Prices totaled at $29.017 trillion, as compared to $25.744 trillion in 2022.\n",
            "The three U.S. states with the highest GDPs were California ($4.080 trillion), Texas ($2.695 trillion), and New York ($2.284 trillion). The three U.S. states with the lowest GDPs were Vermont ($45.4 billion), Wyoming ($53.0 billion), and Alaska ($69.8 billion).\n",
            "GDP per capita also varied widely throughout the United States in 2024, with New York ($117,332), Massachusetts ($110,561), and Washington (state) ($108,468) recording the three highest GDP per capita figures in the U.S., while Mississippi ($53,061), Arkansas ($60,276), and West Virginia ($60,783) recorded the three lowest GDP per capita figures in the U.S. The District of Columbia, though, recorded a GDP per capita figure far higher than any U.S. state in 2024 at $263,220.\n",
            "\n",
            "\n",
            "\n",
            "Page: List of countries by GDP (nominal)\n",
            "Summary: Gross domestic product (GDP) is the market value of all final goods and services from a nation in a given year. Countries are sorted by nominal GDP estimates from financial and statistical institutions, which are calculated at market or government official exchange rates. Nominal GDP does not take into account differences in the cost of living in different countries, and the results can vary greatly from one year to another based on fluctuations in the exchange rates of the country's currency. Such fluctuations may change a country's ranking from one year to the next, even though they often make little or no difference in the standard of living of its population.\n",
            "Comparisons of national wealth are also frequently made based on purchasing power parity (PPP), to adjust for differences in the cost of living in different countries. Other metrics, nominal GDP per capita and a corresponding GDP (PPP) per capita are used for comparing national standard of living. On the whole, PPP per capita figures are less spread than nominal GDP per capita figures.\n",
            "The rankings of national economies over time have changed considerably; the economy of the United States surpassed the British Empire's output around 1916, which in turn had surpassed the economy of the Qing dynasty in aggregate output decades earlier. Since China's transition to a socialist market economy through controlled privatisation and deregulation, the country has seen its ranking increase from ninth in 1978, to second in 2010; China's economic growth accelerated during this period and its share of global nominal GDP surged from 2% in 1980 to 18% in 2021. Among others, India has also experienced an economic boom since the implementation of economic liberalisation in the early 1990s.\n",
            "The first list includes estimates compiled by the International Monetary Fund's World Economic Outlook, the second list shows the World Bank's data, and the third list includes data compiled by the United Nations Statistics Division. The IMF's definitive data for the past year and estimates for the current year are published twice a year in April and October. Non-sovereign entities (the world, continents, and some dependent territories) and states with limited internat\u001b[0m\n",
            "Thought:\u001b[32;1m\u001b[1;3mAction: wikipedia\n",
            "Action Input: GDP of US in 2024\u001b[0m\n",
            "Observation: \u001b[36;1m\u001b[1;3mPage: List of U.S. states and territories by GDP\n",
            "Summary: This is a list of U.S. states and territories by gross domestic product (GDP). This article presents the 50 U.S. states and the District of Columbia and their nominal GDP at current prices.\n",
            "The data source for the list is the Bureau of Economic Analysis (BEA) in 2024. The BEA defined GDP by state as \"the sum of value added from all industries in the state.\"\n",
            "Nominal GDP does not take into account differences in the cost of living in different countries, and the results can vary greatly from one year to another based on fluctuations in the exchange rates of the country's currency. Such fluctuations may change a country's ranking from one year to the next, even though they often make little or no difference in the standard of living of its population.\n",
            "Overall, in the calendar year 2024, the United States' Nominal GDP at Current Prices totaled at $29.017 trillion, as compared to $25.744 trillion in 2022.\n",
            "The three U.S. states with the highest GDPs were California ($4.080 trillion), Texas ($2.695 trillion), and New York ($2.284 trillion). The three U.S. states with the lowest GDPs were Vermont ($45.4 billion), Wyoming ($53.0 billion), and Alaska ($69.8 billion).\n",
            "GDP per capita also varied widely throughout the United States in 2024, with New York ($117,332), Massachusetts ($110,561), and Washington (state) ($108,468) recording the three highest GDP per capita figures in the U.S., while Mississippi ($53,061), Arkansas ($60,276), and West Virginia ($60,783) recorded the three lowest GDP per capita figures in the U.S. The District of Columbia, though, recorded a GDP per capita figure far higher than any U.S. state in 2024 at $263,220.\n",
            "\n",
            "\n",
            "\n",
            "Page: List of countries by GDP (nominal)\n",
            "Summary: Gross domestic product (GDP) is the market value of all final goods and services from a nation in a given year. Countries are sorted by nominal GDP estimates from financial and statistical institutions, which are calculated at market or government official exchange rates. Nominal GDP does not take into account differences in the cost of living in different countries, and the results can vary greatly from one year to another based on fluctuations in the exchange rates of the country's currency. Such fluctuations may change a country's ranking from one year to the next, even though they often make little or no difference in the standard of living of its population.\n",
            "Comparisons of national wealth are also frequently made based on purchasing power parity (PPP), to adjust for differences in the cost of living in different countries. Other metrics, nominal GDP per capita and a corresponding GDP (PPP) per capita are used for comparing national standard of living. On the whole, PPP per capita figures are less spread than nominal GDP per capita figures.\n",
            "The rankings of national economies over time have changed considerably; the economy of the United States surpassed the British Empire's output around 1916, which in turn had surpassed the economy of the Qing dynasty in aggregate output decades earlier. Since China's transition to a socialist market economy through controlled privatisation and deregulation, the country has seen its ranking increase from ninth in 1978, to second in 2010; China's economic growth accelerated during this period and its share of global nominal GDP surged from 2% in 1980 to 18% in 2021. Among others, India has also experienced an economic boom since the implementation of economic liberalisation in the early 1990s.\n",
            "The first list includes estimates compiled by the International Monetary Fund's World Economic Outlook, the second list shows the World Bank's data, and the third list includes data compiled by the United Nations Statistics Division. The IMF's definitive data for the past year and estimates for the current year are published twice a year in April and October. Non-sovereign entities (the world, continents, and some dependent territories) and states with limited internat\u001b[0m\n",
            "Thought:\u001b[32;1m\u001b[1;3m I now know the final answer\n",
            "Final Answer: $29.017 trillion\u001b[0m\n",
            "\n",
            "\u001b[1m> Finished chain.\u001b[0m\n"
          ]
        },
        {
          "output_type": "execute_result",
          "data": {
            "text/plain": [
              "'$29.017 trillion'"
            ],
            "application/vnd.google.colaboratory.intrinsic+json": {
              "type": "string"
            }
          },
          "metadata": {},
          "execution_count": 24
        }
      ]
    },
    {
      "cell_type": "markdown",
      "source": [
        "# Memory"
      ],
      "metadata": {
        "id": "2RL32CSTTHra"
      }
    },
    {
      "cell_type": "markdown",
      "source": [
        "Chatbot application like ChatGPT, you will notice that it remember past information"
      ],
      "metadata": {
        "id": "kAFq5xy1TDv8"
      }
    },
    {
      "cell_type": "code",
      "source": [
        "from langchain.prompts import PromptTemplate\n",
        "prompt_template_name=PromptTemplate(\n",
        "    input_variables=['cuisine'],\n",
        "    template = \"I want to open a restaurant for {cuisine} food. Suggest a fency name for this.\"\n",
        ")"
      ],
      "metadata": {
        "id": "XSRyhL-8R-5P"
      },
      "execution_count": 25,
      "outputs": []
    },
    {
      "cell_type": "code",
      "source": [
        "from langchain.chains import LLMChain\n",
        "chain=LLMChain(llm=llm, prompt=prompt_template_name)\n",
        "name=chain.run(\"Mexican\")\n",
        "print(name)"
      ],
      "metadata": {
        "colab": {
          "base_uri": "https://localhost:8080/"
        },
        "id": "qYkkac_sZC3t",
        "outputId": "a8897548-cce2-4544-8d07-4ea65b68ba40"
      },
      "execution_count": 26,
      "outputs": [
        {
          "output_type": "stream",
          "name": "stdout",
          "text": [
            "* **El Palacio de los Sabores** (The Palace of Flavors)\n",
            "* **La Hacienda de la Gastronomía** (The Hacienda of Gastronomy)\n",
            "* **El Jardín de los Deliciosos** (The Garden of Delights)\n",
            "* **La Casa de la Cocina Mexicana** (The House of Mexican Cuisine)\n",
            "* **El Templo de los Tacos** (The Temple of Tacos)\n",
            "* **La Cantina de los Sueños** (The Cantina of Dreams)\n",
            "* **El Mezcalero** (The Mezcal Bar)\n",
            "* **La Taquería de los Artistas** (The Taqueria of Artists)\n",
            "* **El Comal de los Dioses** (The Comal of the Gods)\n",
            "* **La Fonda de los Sabores** (The Inn of Flavors)\n"
          ]
        }
      ]
    },
    {
      "cell_type": "code",
      "source": [
        "name = chain.run(\"Indian\")\n",
        "print(name)"
      ],
      "metadata": {
        "colab": {
          "base_uri": "https://localhost:8080/"
        },
        "id": "sv508qiYZi4X",
        "outputId": "2935bbb1-35d7-4d38-d2bc-479e0a15b0ff"
      },
      "execution_count": 27,
      "outputs": [
        {
          "output_type": "stream",
          "name": "stdout",
          "text": [
            "* **Aashna** (meaning \"desire\" or \"longing\")\n",
            "* **Amrit** (meaning \"nectar\" or \"ambrosia\")\n",
            "* **Ananda** (meaning \"bliss\" or \"joy\")\n",
            "* **Ashoka** (meaning \"sorrowless\" or \"without grief\")\n",
            "* **Bhojan** (meaning \"food\" or \"meal\")\n",
            "* **Chakra** (meaning \"wheel\" or \"circle\")\n",
            "* **Devi** (meaning \"goddess\")\n",
            "* **Durga** (meaning \"invincible\" or \"unconquerable\")\n",
            "* **Ganga** (meaning \"the Ganges River\")\n",
            "* **Indra** (meaning \"king of the gods\")\n",
            "* **Jai** (meaning \"victory\" or \"triumph\")\n",
            "* **Kali** (meaning \"time\" or \"death\")\n",
            "* **Lakshmi** (meaning \"goddess of wealth and prosperity\")\n",
            "* **Maya** (meaning \"illusion\" or \"enchantment\")\n",
            "* **Om** (meaning \"the sacred syllable\")\n",
            "* **Parvati** (meaning \"daughter of the mountains\")\n",
            "* **Radha** (meaning \"the beloved of Krishna\")\n",
            "* **Sagar** (meaning \"ocean\")\n",
            "* **Saraswati** (meaning \"goddess of knowledge and music\")\n",
            "* **Shiva** (meaning \"the auspicious one\")\n",
            "* **Vishnu** (meaning \"the preserver\")\n"
          ]
        }
      ]
    },
    {
      "cell_type": "code",
      "source": [
        "chain.memory"
      ],
      "metadata": {
        "id": "E8nQdOBhZnxB"
      },
      "execution_count": 29,
      "outputs": []
    },
    {
      "cell_type": "code",
      "source": [
        "type(chain.memory)"
      ],
      "metadata": {
        "colab": {
          "base_uri": "https://localhost:8080/"
        },
        "id": "VzSJZIq-ZoXc",
        "outputId": "94a77a41-0ee2-4b21-b54c-3b0c69f16e2e"
      },
      "execution_count": 28,
      "outputs": [
        {
          "output_type": "execute_result",
          "data": {
            "text/plain": [
              "NoneType"
            ]
          },
          "metadata": {},
          "execution_count": 28
        }
      ]
    },
    {
      "cell_type": "markdown",
      "source": [
        "Conversation Buffer Memory"
      ],
      "metadata": {
        "id": "upkAZuQCZzEH"
      }
    },
    {
      "cell_type": "code",
      "source": [
        "from langchain.memory import ConversationBufferMemory\n",
        "memory=ConversationBufferMemory()\n",
        "chain=LLMChain(llm=llm,prompt=prompt_template_name,memory=memory)\n",
        "name = chain.run(\"Lebanese\")\n",
        "print(name)"
      ],
      "metadata": {
        "colab": {
          "base_uri": "https://localhost:8080/"
        },
        "id": "nCK2aM-MZpv0",
        "outputId": "7ee188c4-0811-4ac4-ad17-83bf07d79b35"
      },
      "execution_count": 30,
      "outputs": [
        {
          "output_type": "stream",
          "name": "stderr",
          "text": [
            "<ipython-input-30-3ca35f259302>:2: LangChainDeprecationWarning: Please see the migration guide at: https://python.langchain.com/docs/versions/migrating_memory/\n",
            "  memory=ConversationBufferMemory()\n"
          ]
        },
        {
          "output_type": "stream",
          "name": "stdout",
          "text": [
            "* **Al-Basha's Table**\n",
            "* **Cedars of Lebanon**\n",
            "* **Damascus Rose**\n",
            "* **Emir's Feast**\n",
            "* **Golden Minaret**\n",
            "* **Jasmine Palace**\n",
            "* **Khan el-Khalili**\n",
            "* **Lebanese Nights**\n",
            "* **Marhaba** (meaning \"welcome\" in Arabic)\n",
            "* **Qasr al-Sultan** (meaning \"Sultan's Palace\")\n",
            "* **Souk al-Akel** (meaning \"Food Market\")\n",
            "* **Tarab** (meaning \"joy\" or \"celebration\")\n",
            "* **Zaatar and Thyme**\n"
          ]
        }
      ]
    },
    {
      "cell_type": "code",
      "source": [
        "name = chain.run(\"Arabic\")\n",
        "print(name)"
      ],
      "metadata": {
        "colab": {
          "base_uri": "https://localhost:8080/"
        },
        "id": "taM8Z5wfaZpj",
        "outputId": "1da0537f-eeac-437f-9966-13401855d746"
      },
      "execution_count": 31,
      "outputs": [
        {
          "output_type": "stream",
          "name": "stdout",
          "text": [
            "* **Al-Andalus** (The Light of the West)\n",
            "* **Al-Firdaus** (Paradise)\n",
            "* **Al-Hambra** (The Red Castle)\n",
            "* **Al-Maghrib** (The West)\n",
            "* **Al-Masjid** (The Mosque)\n",
            "* **Al-Quds** (The Holy City)\n",
            "* **Al-Salam** (Peace)\n",
            "* **Al-Shām** (Greater Syria)\n",
            "* **Al-Zahra** (The Flower)\n",
            "* **Dar al-Salam** (House of Peace)\n",
            "* **Dar al-Ziyafah** (House of Hospitality)\n",
            "* **Jannat al-Firdaus** (Garden of Paradise)\n",
            "* **Layali al-Arab** (Arabian Nights)\n",
            "* **Majlis al-Arab** (Arabian Council)\n",
            "* **Qasr al-Arab** (Arabian Palace)\n",
            "* **Riyad al-Jannah** (Gardens of Heaven)\n",
            "* **Suq al-Arab** (Arabian Market)\n",
            "* **Wadi al-Salam** (Valley of Peace)\n",
            "* **Zaytun al-Andalus** (Olive Tree of Andalusia)\n"
          ]
        }
      ]
    },
    {
      "cell_type": "code",
      "source": [
        "print(chain.memory.buffer)"
      ],
      "metadata": {
        "colab": {
          "base_uri": "https://localhost:8080/"
        },
        "id": "Z-GdoikJac5h",
        "outputId": "450376c1-20a4-41bb-8c64-0a1d9a14e65a"
      },
      "execution_count": 32,
      "outputs": [
        {
          "output_type": "stream",
          "name": "stdout",
          "text": [
            "Human: Lebanese\n",
            "AI: * **Al-Basha's Table**\n",
            "* **Cedars of Lebanon**\n",
            "* **Damascus Rose**\n",
            "* **Emir's Feast**\n",
            "* **Golden Minaret**\n",
            "* **Jasmine Palace**\n",
            "* **Khan el-Khalili**\n",
            "* **Lebanese Nights**\n",
            "* **Marhaba** (meaning \"welcome\" in Arabic)\n",
            "* **Qasr al-Sultan** (meaning \"Sultan's Palace\")\n",
            "* **Souk al-Akel** (meaning \"Food Market\")\n",
            "* **Tarab** (meaning \"joy\" or \"celebration\")\n",
            "* **Zaatar and Thyme**\n",
            "Human: Arabic\n",
            "AI: * **Al-Andalus** (The Light of the West)\n",
            "* **Al-Firdaus** (Paradise)\n",
            "* **Al-Hambra** (The Red Castle)\n",
            "* **Al-Maghrib** (The West)\n",
            "* **Al-Masjid** (The Mosque)\n",
            "* **Al-Quds** (The Holy City)\n",
            "* **Al-Salam** (Peace)\n",
            "* **Al-Shām** (Greater Syria)\n",
            "* **Al-Zahra** (The Flower)\n",
            "* **Dar al-Salam** (House of Peace)\n",
            "* **Dar al-Ziyafah** (House of Hospitality)\n",
            "* **Jannat al-Firdaus** (Garden of Paradise)\n",
            "* **Layali al-Arab** (Arabian Nights)\n",
            "* **Majlis al-Arab** (Arabian Council)\n",
            "* **Qasr al-Arab** (Arabian Palace)\n",
            "* **Riyad al-Jannah** (Gardens of Heaven)\n",
            "* **Suq al-Arab** (Arabian Market)\n",
            "* **Wadi al-Salam** (Valley of Peace)\n",
            "* **Zaytun al-Andalus** (Olive Tree of Andalusia)\n"
          ]
        }
      ]
    },
    {
      "cell_type": "markdown",
      "source": [
        "**ConversationChain**"
      ],
      "metadata": {
        "id": "wGJFmejqbKzM"
      }
    },
    {
      "cell_type": "markdown",
      "source": [
        "Conversation buffer memory goes growing endlessly\n",
        "\n",
        "Just remember last 5 Conversation Chain\n",
        "\n",
        "Just remember last 10-20 Conversation Chain"
      ],
      "metadata": {
        "id": "iQcofHNkbKO4"
      }
    },
    {
      "cell_type": "code",
      "source": [
        "from langchain.chains import ConversationChain\n",
        "convo=ConversationChain(llm=llm)\n",
        "print(convo.prompt.template)"
      ],
      "metadata": {
        "colab": {
          "base_uri": "https://localhost:8080/"
        },
        "id": "ZtF45BT1bGKq",
        "outputId": "c257eaed-16c3-4179-bd71-a3453f640a06"
      },
      "execution_count": 33,
      "outputs": [
        {
          "output_type": "stream",
          "name": "stdout",
          "text": [
            "The following is a friendly conversation between a human and an AI. The AI is talkative and provides lots of specific details from its context. If the AI does not know the answer to a question, it truthfully says it does not know.\n",
            "\n",
            "Current conversation:\n",
            "{history}\n",
            "Human: {input}\n",
            "AI:\n"
          ]
        },
        {
          "output_type": "stream",
          "name": "stderr",
          "text": [
            "<ipython-input-33-c18aa0d3c663>:2: LangChainDeprecationWarning: The class `ConversationChain` was deprecated in LangChain 0.2.7 and will be removed in 1.0. Use :meth:`~RunnableWithMessageHistory: https://python.langchain.com/v0.2/api_reference/core/runnables/langchain_core.runnables.history.RunnableWithMessageHistory.html` instead.\n",
            "  convo=ConversationChain(llm=llm)\n"
          ]
        }
      ]
    },
    {
      "cell_type": "code",
      "source": [
        "convo.run(\"Who won the first cricket world cup?\")"
      ],
      "metadata": {
        "colab": {
          "base_uri": "https://localhost:8080/",
          "height": 35
        },
        "id": "fkNeT9SKbq4J",
        "outputId": "14a1aa75-7d66-4c3b-b084-f9cff90c2368"
      },
      "execution_count": 34,
      "outputs": [
        {
          "output_type": "execute_result",
          "data": {
            "text/plain": [
              "'West Indies'"
            ],
            "application/vnd.google.colaboratory.intrinsic+json": {
              "type": "string"
            }
          },
          "metadata": {},
          "execution_count": 34
        }
      ]
    },
    {
      "cell_type": "code",
      "source": [
        "convo.run(\"How much is 5+5?\")"
      ],
      "metadata": {
        "colab": {
          "base_uri": "https://localhost:8080/",
          "height": 35
        },
        "id": "U7qS9TADbxkH",
        "outputId": "1a9aa273-1dc3-455e-fa59-3411d02d0beb"
      },
      "execution_count": 35,
      "outputs": [
        {
          "output_type": "execute_result",
          "data": {
            "text/plain": [
              "'10'"
            ],
            "application/vnd.google.colaboratory.intrinsic+json": {
              "type": "string"
            }
          },
          "metadata": {},
          "execution_count": 35
        }
      ]
    },
    {
      "cell_type": "code",
      "source": [
        "convo.run(\"Who was the captain of the winning team?\")"
      ],
      "metadata": {
        "colab": {
          "base_uri": "https://localhost:8080/",
          "height": 35
        },
        "id": "0dAlxRLXbz8e",
        "outputId": "8b650ca5-a9da-40cc-d5e6-d9e01064ea43"
      },
      "execution_count": 36,
      "outputs": [
        {
          "output_type": "execute_result",
          "data": {
            "text/plain": [
              "'Frank Worrell'"
            ],
            "application/vnd.google.colaboratory.intrinsic+json": {
              "type": "string"
            }
          },
          "metadata": {},
          "execution_count": 36
        }
      ]
    },
    {
      "cell_type": "code",
      "source": [
        "print(convo.memory.buffer)"
      ],
      "metadata": {
        "colab": {
          "base_uri": "https://localhost:8080/"
        },
        "id": "imEGUc_Vb4ff",
        "outputId": "8e9021fd-ac3c-4f81-d80e-a63d29c118b5"
      },
      "execution_count": 37,
      "outputs": [
        {
          "output_type": "stream",
          "name": "stdout",
          "text": [
            "Human: Who won the first cricket world cup?\n",
            "AI: West Indies\n",
            "Human: How much is 5+5?\n",
            "AI: 10\n",
            "Human: Who was the captain of the winning team?\n",
            "AI: Frank Worrell\n"
          ]
        }
      ]
    },
    {
      "cell_type": "markdown",
      "source": [
        "# ConversationBufferWindowMemory"
      ],
      "metadata": {
        "id": "Qq_Ot-fkcBUb"
      }
    },
    {
      "cell_type": "code",
      "source": [
        "from langchain.memory import ConversationBufferWindowMemory\n",
        "\n",
        "memory = ConversationBufferWindowMemory(k=3)\n",
        "\n",
        "convo = ConversationChain(\n",
        "    llm=llm,\n",
        "    memory=memory\n",
        ")\n",
        "convo.run(\"Who won the first cricket world cup?\")"
      ],
      "metadata": {
        "colab": {
          "base_uri": "https://localhost:8080/",
          "height": 90
        },
        "id": "S7c5f4yTcEqX",
        "outputId": "a0551c5f-0726-4a1b-8993-ba25990d158f"
      },
      "execution_count": 38,
      "outputs": [
        {
          "output_type": "stream",
          "name": "stderr",
          "text": [
            "<ipython-input-38-c44103b4dc92>:3: LangChainDeprecationWarning: Please see the migration guide at: https://python.langchain.com/docs/versions/migrating_memory/\n",
            "  memory = ConversationBufferWindowMemory(k=3)\n"
          ]
        },
        {
          "output_type": "execute_result",
          "data": {
            "text/plain": [
              "'West Indies'"
            ],
            "application/vnd.google.colaboratory.intrinsic+json": {
              "type": "string"
            }
          },
          "metadata": {},
          "execution_count": 38
        }
      ]
    },
    {
      "cell_type": "code",
      "source": [
        "convo.run(\"How much is 5+5?\")"
      ],
      "metadata": {
        "colab": {
          "base_uri": "https://localhost:8080/",
          "height": 35
        },
        "id": "34u_wTuFcWN2",
        "outputId": "2b12347a-4c4a-421b-a0ae-658c2763a8de"
      },
      "execution_count": 39,
      "outputs": [
        {
          "output_type": "execute_result",
          "data": {
            "text/plain": [
              "'10'"
            ],
            "application/vnd.google.colaboratory.intrinsic+json": {
              "type": "string"
            }
          },
          "metadata": {},
          "execution_count": 39
        }
      ]
    },
    {
      "cell_type": "code",
      "source": [
        "convo.run(\"Who was the captain of the winning team?\")"
      ],
      "metadata": {
        "colab": {
          "base_uri": "https://localhost:8080/",
          "height": 35
        },
        "id": "574E7jwScaUL",
        "outputId": "81fc2aa6-367e-496e-b5cc-c74e37f51b2b"
      },
      "execution_count": 40,
      "outputs": [
        {
          "output_type": "execute_result",
          "data": {
            "text/plain": [
              "'Frank Worrell'"
            ],
            "application/vnd.google.colaboratory.intrinsic+json": {
              "type": "string"
            }
          },
          "metadata": {},
          "execution_count": 40
        }
      ]
    },
    {
      "cell_type": "code",
      "source": [
        "convo.run(\"Who won the first football world cup?\")"
      ],
      "metadata": {
        "colab": {
          "base_uri": "https://localhost:8080/",
          "height": 35
        },
        "id": "1Gp2iLl0cc_I",
        "outputId": "28671297-e8c0-4487-8793-0f7d35b62174"
      },
      "execution_count": 41,
      "outputs": [
        {
          "output_type": "execute_result",
          "data": {
            "text/plain": [
              "'Uruguay'"
            ],
            "application/vnd.google.colaboratory.intrinsic+json": {
              "type": "string"
            }
          },
          "metadata": {},
          "execution_count": 41
        }
      ]
    },
    {
      "cell_type": "code",
      "source": [
        "print(convo.memory.buffer)"
      ],
      "metadata": {
        "colab": {
          "base_uri": "https://localhost:8080/"
        },
        "id": "y2Ch6vv5cfDR",
        "outputId": "a9ff095d-b9c7-4d1c-d6fb-def557bd8cef"
      },
      "execution_count": 42,
      "outputs": [
        {
          "output_type": "stream",
          "name": "stdout",
          "text": [
            "Human: How much is 5+5?\n",
            "AI: 10\n",
            "Human: Who was the captain of the winning team?\n",
            "AI: Frank Worrell\n",
            "Human: Who won the first football world cup?\n",
            "AI: Uruguay\n"
          ]
        }
      ]
    },
    {
      "cell_type": "markdown",
      "source": [
        "# Document loaders"
      ],
      "metadata": {
        "id": "9ka4g9Ojdflw"
      }
    },
    {
      "cell_type": "code",
      "source": [
        "!pip install pypdf"
      ],
      "metadata": {
        "colab": {
          "base_uri": "https://localhost:8080/"
        },
        "id": "mQGuyh9sdd8j",
        "outputId": "4c4ec9a8-5662-4e8a-a445-e31f1fc4aab5"
      },
      "execution_count": 43,
      "outputs": [
        {
          "output_type": "stream",
          "name": "stdout",
          "text": [
            "Collecting pypdf\n",
            "  Downloading pypdf-5.3.0-py3-none-any.whl.metadata (7.2 kB)\n",
            "Downloading pypdf-5.3.0-py3-none-any.whl (300 kB)\n",
            "\u001b[2K   \u001b[90m━━━━━━━━━━━━━━━━━━━━━━━━━━━━━━━━━━━━━━━━\u001b[0m \u001b[32m300.7/300.7 kB\u001b[0m \u001b[31m6.1 MB/s\u001b[0m eta \u001b[36m0:00:00\u001b[0m\n",
            "\u001b[?25hInstalling collected packages: pypdf\n",
            "Successfully installed pypdf-5.3.0\n"
          ]
        }
      ]
    },
    {
      "cell_type": "code",
      "source": [
        "from langchain.document_loaders import PyPDFLoader\n",
        "\n",
        "loader = PyPDFLoader(\"/content/U.S Universities by State.pdf\")\n",
        "pages = loader.load()"
      ],
      "metadata": {
        "id": "IlWToxsGdl8j"
      },
      "execution_count": 44,
      "outputs": []
    },
    {
      "cell_type": "code",
      "source": [
        "pages"
      ],
      "metadata": {
        "colab": {
          "base_uri": "https://localhost:8080/"
        },
        "id": "8YHBGR-IdwRj",
        "outputId": "666ba1a9-6da5-4b11-9573-e7c95942f75f"
      },
      "execution_count": 45,
      "outputs": [
        {
          "output_type": "execute_result",
          "data": {
            "text/plain": [
              "[Document(metadata={'producer': 'PyPDF', 'creator': 'PyPDF', 'creationdate': '', 'source': '/content/U.S Universities by State.pdf', 'total_pages': 19, 'page': 0, 'page_label': '1'}, page_content=\"AL AK AZ AR CA CO CT DE DC FL\\nGA HI ID IL IN IA KS KY LA ME\\nMD MA MI MN MS MO MT NE NV NH\\nNJ NM NY NC ND OH OK OR PA RI\\nSC SD TN TX UT VT VA WA WV WI\\nWY  GU PR VI\\nDirectory  • Offices  • Campus/Parking Maps  • Calendars  • UT Direct  • Search  • Sitemap\\nUT Home > World > Web U.S. Higher Education >\\nU.S. Universities\\nby state\\n(also available organized alphabetically)\\nAlabama\\nState higher education oversight agency:\\nAlabama Commission on Higher Education\\nAir University\\nAlabama A&M University\\nAlabama State University\\nAmridge University\\nAthens State University\\nAuburn University\\nAuburn University at Montgomery\\nBirmingham-Southern College\\nConcordia College–Alabama\\nFaulkner University\\nHuntingdon College\\nJacksonville State University\\nJudson College\\nMiles College\\nOakwood University\\nSamford University\\nSoutheastern Bible College\\nSpring Hill College\\nStillman College\\nTalladega College\\nTroy University\\nTuskegee University\\nUnited States Sports Academy\\nUniversity of Alabama System\\nBirmingham\\nHuntsville\\nTuscaloosa\\nUniversity of Mobile\\nUniversity of Montevallo\\nUniversity of North Alabama\\nUniversity of South Alabama\\nUniversity of West Alabama\\nArkansas\\nState higher education oversight agency:\\nArkansas Department of Higher Education\\nArkansas Baptist College\\nArkansas State University\\nArkansas Tech University\\nCentral Baptist College\\nCrowley's Ridge College\\nHarding University\\nHenderson State University\\nAlaska\\nState higher education oversight agency:\\nAlaska Commission on Postsecondary Education\\nAlaska Bible College\\nAlaska Pacific University\\nUniversity of Alaska System\\nAnchorage\\nFairbanks\\nSoutheast (Juneau)\\nArizona\\nState higher education oversight agencies:\\nArizona Commission for Postsecondary Education\\nArizona State Board for Private Postsecondary Education\\nA.T. Still University of Health Sciences\\nAmerican Indian College of the Assemblies of God\\nArizona Christian University\\nArizona State University\\nDowntown Phoenix Campus\\nPolytechnic Campus\\nWest Campus\\nDeVry University–Phoenix\\nEmbry-Riddle Aeronautical University\\nFrank Lloyd Wright School of Architecture\\nGrand Canyon University\\nMidwestern University–Glendale campus\\nNorthcentral University\\nNorthern Arizona University\\nPrescott College\\nSouthwest College of Naturopathic Medicine & Health Sciences\\nSouthwest University of Visual Arts (AZ)\\nThunderbird School of Global Management\\nUniversity of Advancing Technology\\nUniversity of Arizona\\nUniversity of Phoenix\\nWestern International University\\nCalifornia\\nState higher education oversight agencies:\\nCalifornia Postsecondary Education Commission\\nBureau for Private Postsecondary Education\"),\n",
              " Document(metadata={'producer': 'PyPDF', 'creator': 'PyPDF', 'creationdate': '', 'source': '/content/U.S Universities by State.pdf', 'total_pages': 19, 'page': 1, 'page_label': '2'}, page_content='Hendrix College\\nJohn Brown University\\nLyon College\\nOuachita Baptist University\\nPhilander Smith College\\nSouthern Arkansas University\\nUniversity of Arkansas System\\nFayetteville\\nFort Smith\\nLittle Rock\\nMedical Sciences\\nMonticello\\nPine Bluff\\nUniversity of Central Arkansas\\nUniversity of the Ozarks\\nWilliams Baptist College\\nColorado\\nState higher education oversight agency:\\nColorado Department of Higher Education\\nAdams State College\\nArt Institute of Colorado\\nCollege for Financial Planning\\nColorado Christian University\\nColorado College\\nColorado Mesa University\\nColorado School of Mines\\nColorado State University\\nColorado State University–Pueblo\\nColorado Technical University\\nDenver Seminary\\nFort Lewis College\\nIliff School of Theology\\nJones International University\\nMetropolitan State University of Denver\\nNaropa University\\nNazarene Bible College\\nRegis University\\nRocky Mountain College of Art & Design\\nUnited States Air Force Academy\\nUniversity of Colorado System\\nBoulder\\nColorado Springs\\nDenver\\nUniversity of Denver\\nUniversity of Northern Colorado\\nUniversity of the Rockies\\nWestern State Colorado University\\nConnecticut\\nAlbertus Magnus College\\nConnecticut College\\nConnecticut State Colleges & Universities (4-year campuses)\\nCentral Connecticut State University\\nCharter Oak State College\\nEastern Connecticut State University\\nSouthern Connecticut State University\\nWestern Connecticut State University\\nFairfield University\\nGoodwin College\\nHartford Seminary\\nHoly Apostles College & Seminary\\nAcademy of Art University\\nAlliant International University\\nAmerican Conservatory Theater\\nAmerican Film Institute\\nAmerican Jewish University\\nAntioch University–Los Angeles\\nAntioch University–Santa Barbara\\nArt Center College of Design\\nAzusa Pacific University\\nBethesda University of California\\nBiola University\\nBrandman University\\nCalifornia Baptist University\\nCalifornia College of the Arts\\nCalifornia Institute of the Arts\\nCalifornia Institute of Integral Studies\\nCalifornia Institute of Technology\\nCalifornia Lutheran University\\nCalifornia Northstate University\\nCalifornia State University System\\nBakersfield\\nCalifornia Maritime Academy\\nCalifornia Polytechnic State University, San Luis Obispo\\nCalifornia State Polytechnic University, Pomona\\nChannel Islands\\nChico\\nDominguez Hills\\nEast Bay\\nFresno\\nFullerton\\nLong Beach\\nLos Angeles\\nMonterey Bay\\nNorthridge\\nSacramento\\nSan Bernardino\\nSan Marcos\\nStanislaus\\nHumboldt State University\\nSan Diego State University\\nSan Francisco State University\\nSan José State University\\nSonoma State University\\nChapman University\\nCharles R. Drew University of Medicine & Science\\nChurch Divinity School of the Pacific\\nClaremont Consortium of Colleges\\nClaremont Graduate University\\nClaremont McKenna College\\nHarvey Mudd College\\nKeck Graduate Institute of Applied Life Sciences\\nPitzer College\\nPomona College\\nScripps College\\nClaremont School of Theology\\nCogswell Polytechnical College\\nConcordia University–Irvine\\nDeVry University–Long Beach\\nDeVry University–Pomona\\nDominican School of Philosophy & Theology\\nDominican University of California\\nFashion Institute of Design & Merchandising\\nFielding Graduate University\\nFranciscan School of Theology\\nFresno Pacific University\\nFuller Theological Seminary\\nGolden Gate Baptist Theological Seminary\\nGolden Gate University\\nGraduate Theological Union\\nHebrew Union College-Jewish Institute of Religion'),\n",
              " Document(metadata={'producer': 'PyPDF', 'creator': 'PyPDF', 'creationdate': '', 'source': '/content/U.S Universities by State.pdf', 'total_pages': 19, 'page': 2, 'page_label': '3'}, page_content=\"Lincoln College of New England\\nLyme Academy College of Fine Arts\\nMitchell College\\nPost University\\nQuinnipiac University\\nSacred Heart University\\nSaint Vincent's College\\nTrinity College\\nUnited States Coast Guard Academy\\nUniversity of Bridgeport\\nUniversity of Connecticut\\nUniversity of Hartford\\nUniversity of New Haven\\nUniversity of Saint Joseph\\nWesleyan University\\nYale University\\nDelaware\\nState higher education oversight agency:\\nDelaware Higher Education Commission\\nDelaware State University\\nGoldey-Beacom College\\nUniversity of Delaware\\nWesley College\\nWilmington University\\nDistrict of Columbia\\nAmerican University\\nThe Catholic University of America\\nCorcoran College of Art & Design\\nDominican House of Studies\\nGallaudet University\\nGeorge Washington University\\nGeorgetown University\\nHoward University\\nInstitute of World Politics\\nNational Defense University\\nNational Intelligence University\\nStrayer University\\nTrinity University\\nUniversity of the District of Columbia\\nUniversity of the Potomac\\nWashington Theological Union\\nWesley Theological Seminary\\nFlorida\\nState higher education oversight agency:\\nFlorida Board of Governors\\nAdventist University of Health Sciences\\nAve Maria University\\nThe Baptist College of Florida\\nBarry University\\nBeacon College\\nBethune-Cookman University\\nCarlos Albizu University–Miami Campus\\nClearwater Christian College\\nDeVry University–Orlando\\nEckerd College\\nHoly Names University\\nHope International University\\nHumphreys College\\nIrell & Manella Graduate School of Biological Sciences\\nJohn F. Kennedy University\\nLa Sierra University\\nLaguna College of Art & Design\\nLife Pacific College\\nLoma Linda University\\nLoyola Marymount University\\nMarymount California University\\nThe Master's College\\nThe Master's Seminary\\nMenlo College\\nMills College\\nMount Saint Mary's College\\nNational Hispanic University\\nNational University\\nNaval Postgraduate School\\nNewSchool of Architecture & Design\\nNotre Dame de Namur University\\nOccidental College\\nOlivet University\\nOtis College of Art & Design\\nPacific Oaks College\\nPacific School of Religion\\nPacific Union College\\nPacifica Graduate Institute\\nPalo Alto University\\nPardee RAND Graduate School\\nPatten University\\nPepperdine University\\nPhillips Graduate Institute\\nPoint Loma Nazarene University\\nSaint John's Seminary\\nSaint Mary's College of California\\nSaint Patrick's Seminary & University\\nSamuel Merritt University\\nSan Diego Christian College\\nSan Francisco Art Institute\\nSan Francisco Conservatory of Music\\nSan Francisco Theological Seminary\\nSan Joaquin College of Law\\nSanta Clara University\\nSaybrook University\\nScripps Research Institute\\nSimpson University\\nSofia University\\nSoka University of America\\nSouthern California College of Optometry\\nSouthern California Institute of Architecture\\nSouthern California University of Health Sciences\\nStanford University\\nThomas Aquinas College\\nTouro College Los Angeles\\nTouro University California\\nTouro University Worldwide\\nTrident University International\\nUnited States University\\nUniversity of California System\\nBerkeley\\nDavis\\nHastings College of the Law\\nIrvine\\nLos Angeles\\nMerced\\nRiverside\\nSan Diego\\nSan Francisco\\nSanta Barbara\"),\n",
              " Document(metadata={'producer': 'PyPDF', 'creator': 'PyPDF', 'creationdate': '', 'source': '/content/U.S Universities by State.pdf', 'total_pages': 19, 'page': 3, 'page_label': '4'}, page_content='Edward Waters College\\nEmbry-Riddle Aeronautical University\\nEverglades University\\nFlagler College\\nFlorida College\\nFlorida College System (4-year campuses)\\nBroward College\\nChipola College\\nCollege of Central Florida\\nDaytona State College\\nEastern Florida State College\\nEdison State College\\nFlorida State College at Jacksonville\\nGulf Coast State College\\nIndian River State College\\nLake-Sumter State College\\nMiami Dade College\\nNorthwest Florida State College\\nPalm Beach State College\\nPensacola State College\\nPolk State College\\nSaint Johns River State College\\nSaint Petersburg College\\nSanta Fe College\\nSeminole State College of Florida\\nSouth Florida State College\\nState College of Florida, Manatee-Sarasota\\nValencia College\\nFlorida Institute of Technology\\nFlorida Memorial University\\nFlorida National University\\nFlorida Southern College\\nHobe Sound Bible College\\nHodges University\\nJacksonville University\\nJohnson University Florida\\nKeiser University\\nLynn University\\nMiami International University of Art & Design\\nNorthwood University\\nNova Southeastern University\\nPalm Beach Atlantic University\\nRasmussen College\\nRingling College of Art & Design\\nRollins College\\nSaint John Vianney College Seminary\\nSaint Leo University\\nSaint Thomas University\\nSaint Vincent de Paul Regional Seminary\\nSouth Florida Bible College & Theological Seminary\\nSoutheastern University\\nState University System of Florida\\nFlorida Agricultural & Mechanical University\\nFlorida Atlantic University\\nFlorida Gulf Coast University\\nFlorida International University\\nFlorida State University\\nNew College of Florida\\nUniversity of Central Florida\\nUniversity of Florida\\nUniversity of North Florida\\nUniversity of South Florida System\\nUniversity of South Florida\\nUniversity of South Florida Saint Petersburg\\nUniversity of South Florida Sarasota–Manatee\\nUniversity of West Florida\\nStetson University\\nTrinity College of Florida\\nUniversity of Miami\\nUniversity of Tampa\\nSanta Cruz\\nUniversity of La Verne\\nUniversity of the Pacific\\nUniversity of Redlands\\nUniversity of San Diego\\nUniversity of San Francisco\\nUniversity of Southern California\\nUniversity of the West\\nVanguard University of Southern California\\nWestern State University College of Law\\nWestern University of Health Sciences\\nWestminster Seminary California\\nWestmont College\\nWhittier College\\nWilliam Jessup University\\nWoodbury University\\nThe Wright Institute\\nGeorgia\\nAgnes Scott College\\nArt Institute of Atlanta\\nBauder College\\nBerry College\\nBeulah Heights University\\nBrenau University\\nBrewton-Parker College\\nClark Atlanta University\\nColumbia Theological Seminary\\nCovenant College\\nDeVry University–Georgia\\nEmmanuel College\\nEmory University\\nInterdenominational Theological Center\\nLaGrange College\\nLife University\\nMercer University\\nMorehouse College\\nMorehouse School of Medicine\\nOglethorpe University\\nPaine College\\nPiedmont College\\nPoint University\\nReinhardt University\\nSavannah College of Art & Design\\nShorter University\\nSouth University\\nSpelman College\\nThomas University\\nToccoa Falls College\\nTruett-McConnell College\\nUniversity System of Georgia\\nAbraham Baldwin Agricultural College\\nAlbany State University\\nArmstrong Atlantic State University\\nClayton State University\\nCollege of Coastal Georgia\\nColumbus State University\\nDalton State College\\nFort Valley State University\\nGeorgia College & State University\\nGeorgia Gwinnett College\\nGeorgia Institute of Technology\\nGeorgia Regents University\\nGeorgia Southern University\\nGeorgia Southwestern State University\\nGeorgia State University\\nGordon State College'),\n",
              " Document(metadata={'producer': 'PyPDF', 'creator': 'PyPDF', 'creationdate': '', 'source': '/content/U.S Universities by State.pdf', 'total_pages': 19, 'page': 4, 'page_label': '5'}, page_content=\"Warner University\\nWebber International University\\nHawaii\\nBrigham Young University–Hawaii\\nChaminade University\\nHawaii Pacific University\\nUniversity of Hawaii System\\nHilo\\nManoa\\nMaui College\\nWest O'ahu\\nIllinois\\nState higher education oversight agency:\\nIllinois Board of Higher Education\\nAdler School of Professional Psychology\\nAmerican Academy of Art\\nAmerican College of Education\\nAmerican InterContinental University\\nArgosy University\\nAugustana College\\nAurora University\\nBenedictine University\\nBlackburn College\\nBlessing-Rieman College of Nursing\\nBradley University\\nCatholic Theological Union\\nChamberlain College of Nursing\\nThe Chicago School of Professional Psychology\\nChicago State University\\nChicago Theological Seminary\\nColumbia College Chicago\\nConcordia University–Chicago\\nDePaul University\\nDeVry University\\nDeVry University–Addison\\nDeVry University–Chicago\\nDominican University\\nEast-West University\\nEastern Illinois University\\nElmhurst College\\nErikson Institute\\nEureka College\\nGarrett-Evangelical Theological Seminary\\nGovernors State University\\nGreenville College\\nHarrington College of Design\\nHebrew Theological College\\nIllinois College\\nIllinois College of Optometry\\nIllinois Institute of Art\\nIllinois Institute of Art–Schaumburg\\nIllinois Institute of Technology\\nIllinois State University\\nIllinois Wesleyan University\\nInstitute for Clinical Social Work\\nJohn Marshall Law School\\nJudson University\\nKendall College\\nKnowledge Systems Institute\\nKnox College\\nKennesaw State University\\nMiddle Georgia State College\\nSavannah State University\\nSouth Georgia State College\\nSouthern Polytechnic State University\\nUniversity of Georgia\\nUniversity of North Georgia\\nUniversity of West Georgia\\nValdosta State University\\nWesleyan College\\nYoung Harris College\\nIdaho\\nBoise State University\\nBrigham Young University–Idaho\\nThe College of Idaho\\nIdaho State University\\nLewis-Clark State College\\nNorthwest Nazarene University\\nUniversity of Idaho\\nIndiana\\nState higher education oversight agency:\\nIndiana Commission for Higher Education\\nAnderson University\\nAssociated Mennonite Biblical Seminary\\nBall State University\\nBethany Theological Seminary\\nBethel College\\nButler University\\nCalumet College of Saint Joseph\\nChristian Theological Seminary\\nConcordia Theological Seminary\\nDePauw University\\nEarlham College\\nFranklin College\\nGoshen College\\nGrace College & Seminary\\nHanover College\\nHoly Cross College\\nHuntington University\\nIndiana Institute of Technology\\nIndiana State University\\nIndiana University System\\nIndiana University–Bloomington\\nIndiana University–East\\nIndiana University–Kokomo\\nIndiana University–Northwest\\nIndiana University–South Bend\\nIndiana University–Southeast\\nIndiana University/Purdue University at Columbus\\nIndiana University/Purdue University at Fort Wayne\\nIndiana University/Purdue University at Indianapolis\\nIndiana Wesleyan University\\nManchester University\\nMarian University\\nMartin University\\nOakland City University\\nPurdue University System\\nPurdue University\\nPurdue University–Calumet\\nPurdue University–North Central\"),\n",
              " Document(metadata={'producer': 'PyPDF', 'creator': 'PyPDF', 'creationdate': '', 'source': '/content/U.S Universities by State.pdf', 'total_pages': 19, 'page': 5, 'page_label': '6'}, page_content=\"Lake Forest College\\nLake Forest Graduate School of Management\\nLakeview College of Nursing\\nLewis University\\nLexington College\\nLincoln Christian University\\nLincoln College\\nLoyola University Chicago\\nLutheran School of Theology at Chicago\\nMacMurray College\\nMcCormick Theological Seminary\\nMcKendree University\\nMethodist College\\nMidstate College\\nMidwestern University\\nMillikin University\\nMonmouth College\\nMoody Bible Institute\\nNational University of Health Sciences\\nNational-Louis University\\nNorth Central College\\nNorth Park University\\nNortheastern Illinois University\\nNorthern Baptist Theological Seminary\\nNorthern Illinois University\\nNorthwestern University\\nOlivet Nazarene University\\nPrincipia College\\nQuincy University\\nRasmussen College\\nResurrection University\\nRobert Morris University–Illinois\\nRockford University\\nRoosevelt University\\nRosalind Franklin University of Medicine & Science\\nRush University\\nSaint Anthony College of Nursing\\nSaint Augustine College\\nSaint Francis Medical Center College of Nursing\\nSaint John's College\\nSaint Xavier University\\nSchool of the Art Institute of Chicago\\nShimer College\\nSouthern Illinois University System\\nCarbondale\\nEdwardsville\\nSpertus Institute of Jewish Studies\\nToyota Technological Institute at Chicago\\nTrinity Christian College\\nTrinity College of Nursing & Health Sciences\\nTrinity International University\\nUniversity of Chicago\\nUniversity of Illinois System\\nChicago\\nSpringfield\\nUrbana-Champaign\\nUniversity of Saint Francis\\nVanderCook College of Music\\nWestern Illinois University\\nWheaton College\\nKansas\\nState higher education oversight agency:\\nKansas Board of Regents\\nBaker University\\nCollege of Technology–Anderson\\nCollege of Technology–Columbus\\nCollege of Technology–Indianapolis\\nCollege of Technology–Kokomo\\nCollege of Technology–Lafayette\\nCollege of Technology–New Albany\\nCollege of Technology–Richmond\\nCollege of Technology–South Bend\\nIndiana University/Purdue University at Columbus\\nIndiana University/Purdue University at Fort Wayne\\nIndiana University/Purdue University at Indianapolis\\nRose-Hulman Institute of Technology\\nSaint Joseph's College\\nSaint Mary-of-the-Woods College\\nSaint Mary's College\\nSaint Meinrad Seminary & School of Theology\\nTaylor University\\nTCM International Institute\\nTrine University\\nUniversity of Evansville\\nUniversity of Indianapolis\\nUniversity of Notre Dame\\nUniversity of Saint Francis\\nUniversity of Southern Indiana\\nValparaiso University\\nVincennes University\\nWabash College\\nWestern Governors University–Indiana\\nIowa\\nState higher education oversight agency:\\nBoard of Regents, State of Iowa\\nAIB College of Business\\nAllen College\\nAshford University\\nBriar Cliff University\\nBuena Vista University\\nCentral College\\nClarke University\\nCoe College\\nCornell College\\nDes Moines University-Osteopathic Medical Center\\nDivine Word College\\nDordt College\\nDrake University\\nEmmaus Bible College\\nFaith Baptist Bible College & Theological Seminary\\nGraceland University\\nGrand View University\\nGrinnell College\\nIowa State University\\nIowa Wesleyan College\\nKaplan University\\nLoras College\\nLuther College\\nMaharishi University of Management\\nMercy College of Health Sciences\\nMorningside College\\nMount Mercy University\\nNorthwestern College\\nPalmer College of Chiropractic\\nSaint Ambrose University\\nSaint Luke's College\\nSimpson College\\nUniversity of Dubuque\"),\n",
              " Document(metadata={'producer': 'PyPDF', 'creator': 'PyPDF', 'creationdate': '', 'source': '/content/U.S Universities by State.pdf', 'total_pages': 19, 'page': 6, 'page_label': '7'}, page_content=\"Barclay College\\nBenedictine College\\nBethany College\\nBethel College\\nCentral Baptist Theological Seminary\\nCentral Christian College of Kansas\\nCleveland Chiropractic College\\nDonnelly College\\nEmporia State University\\nFort Hays State University\\nFriends University\\nHaskell Indian Nations University\\nKansas State University\\nKansas State University–Salina\\nKansas Wesleyan University\\nManhattan Christian College\\nMcPherson College\\nMidAmerica Nazarene University\\nNewman University\\nOttawa University\\nPittsburg State University\\nSouthwestern College\\nSterling College\\nTabor College\\nUnited States Army Command & General Staff College\\nUniversity of Kansas\\nUniversity of Kansas Medical Center\\nUniversity of Saint Mary\\nWashburn University\\nWichita State University\\nLouisiana\\nCentenary College of Louisiana\\nDillard University\\nLouisiana College\\nLouisiana State University System\\nAlexandria\\nBaton Rouge\\nHealth Sciences Center–New Orleans\\nHealth Sciences Center–Shreveport\\nLaw Center\\nShreveport\\nLoyola University New Orleans\\nNew Orleans Baptist Theological Seminary\\nNotre Dame Seminary\\nOur Lady of Holy Cross College\\nOur Lady of the Lake College\\nSaint Joseph Seminary College\\nSouthern University System\\nBaton Rouge\\nNew Orleans\\nTulane University\\nUniversity of Louisiana System\\nGrambling State University\\nLouisiana Tech University\\nMcNeese State University\\nNicholls State University\\nNorthwestern State University\\nSoutheastern Louisiana University\\nUniversity of Louisiana at Lafayette\\nUniversity of Louisiana at Monroe\\nUniversity of New Orleans\\nXavier University of Louisiana\\nMaryland\\nUniversity of Iowa\\nUniversity of Northern Iowa\\nUpper Iowa University\\nWaldorf College\\nWartburg College\\nWartburg Theological Seminary\\nWilliam Penn University\\nKentucky\\nState higher education oversight agency:\\nKentucky Council on Postsecondary Education\\nAlice Lloyd College\\nAsbury Theological Seminary\\nAsbury University\\nBellarmine University\\nBerea College\\nBrescia University\\nCampbellsville University\\nCentre College\\nClear Creek Baptist Bible College\\nEastern Kentucky University\\nFrontier Nursing University\\nGeorgetown College\\nKentucky Christian University\\nKentucky Mountain Bible College\\nKentucky State University\\nKentucky Wesleyan College\\nLindsey Wilson College\\nLouisville Presbyterian Theological Seminary\\nMid-Continent University\\nMidway College\\nMorehead State University\\nMurray State University\\nNorthern Kentucky University\\nSaint Catharine College\\nSouthern Baptist Theological Seminary\\nSpalding University\\nSullivan University\\nThomas More College\\nTransylvania University\\nUnion College\\nUniversity of Kentucky\\nUniversity of Louisville\\nUniversity of Pikeville\\nUniversity of the Cumberlands\\nWestern Kentucky University\\nMaine\\nBangor Theological Seminary (closed 22 June 2013)\\nBates College\\nBowdoin College\\nColby College\\nCollege of the Atlantic\\nHusson University\\nMaine College of Art\\nMaine Maritime Academy\\nSaint Joseph's College of Maine\\nThomas College\\nUnity College\\nUniversity of Maine System\\nAugusta\\nFarmington\"),\n",
              " Document(metadata={'producer': 'PyPDF', 'creator': 'PyPDF', 'creationdate': '', 'source': '/content/U.S Universities by State.pdf', 'total_pages': 19, 'page': 7, 'page_label': '8'}, page_content=\"State higher education oversight agency:\\nMaryland Higher Education Commission\\nCapitol College\\nCollege of Notre Dame of Maryland\\nGoucher College\\nHood College\\nJohns Hopkins University\\nLoyola University Maryland\\nMaryland Institute College of Art\\nMaryland University of Integrative Health\\nMcDaniel College\\nMorgan State University\\nMount Saint Mary's University\\nNational Labor College\\nSaint John's College–Annapolis\\nSaint Mary's College of Maryland\\nSaint Mary's Seminary & University\\nSoujourner-Douglass College\\nStevenson University\\nUniformed Services University of the Health Sciences\\nUnited States Naval Academy\\nUniversity System of Maryland\\nBowie State University\\nCoppin State University\\nFrostburg State University\\nSalisbury University\\nTowson University\\nUniversity of Baltimore\\nUniversity of Maryland–Baltimore\\nUniversity of Maryland–Baltimore County\\nUniversity of Maryland–College Park\\nUniversity of Maryland–Eastern Shore\\nUniversity of Maryland–University College\\nWashington Adventist University\\nWashington Bible College/Capital Bible Seminary\\nWashington College\\nMichigan\\nAdrian College\\nAlbion College\\nAlma College\\nAndrews University\\nAquinas College\\nBaker College\\nCalvin College\\nCentral Michigan University\\nCleary University\\nCollege for Creative Studies\\nConcordia University–Ann Arbor\\nCornerstone University\\nCranbrook Academy of Art\\nDavenport University\\nEastern Michigan University\\nFerris State University\\nKendall College of Art & Design\\nFinlandia University\\nGrace Bible College\\nGrand Valley State University\\nGreat Lakes Christian College\\nHillsdale College\\nHope College\\nKalamazoo College\\nKettering University\\nKuyper College\\nLake Superior State University\\nFort Kent\\nMachias\\nOrono (main campus)\\nPresque Isle\\nSchool of Law\\nUniversity of Southern Maine\\nUniversity of New England\\nMassachusetts\\nState higher education oversight agency:\\nMassachusetts Department of Higher Education\\nAmerican International College\\nAmherst College\\nAndover Newton Theological School\\nAnna Maria College\\nAssumption College\\nBabson College\\nBard College at Simon's Rock\\nBay Path College\\nBay State College\\nBecker College\\nBenjamin Franklin Institute of Technology\\nBentley University\\nBerklee College of Music\\nBoston Architectural College\\nBoston College\\nBoston Conservatory\\nBoston Graduate School of Psychoanalysis\\nBoston University\\nBrandeis University\\nCambridge College\\nClark University\\nCollege of the Holy Cross\\nConway School of Landscape Design\\nCurry College\\nDean College\\nEastern Nazarene College\\nElms College\\nEmerson College\\nEmmanuel College\\nEndicott College\\nFisher College\\nFranklin W. Olin College of Engineering\\nGordon College\\nGordon-Conwell Theological Seminary\\nHampshire College\\nHarvard University\\nHebrew College\\nHellenic College/Holy Cross Greek Orthodox School of Theology\\nHult International Business School\\nLabouré College\\nLasell College\\nLesley University\\nLongy School of Music\\nMassachusetts College of Pharmacy & Health Sciences\\nMassachusetts Institute of Technology\\nMassachusetts School of Law\\nMassachusetts School of Professional Psychology\\nMassachusetts State University System\\nBridgewater State University\\nFitchburg State University\\nFramingham State University\\nMassachusetts College of Art & Design\\nMassachusetts College of Liberal Arts\\nMassachusetts Maritime Academy\"),\n",
              " Document(metadata={'producer': 'PyPDF', 'creator': 'PyPDF', 'creationdate': '', 'source': '/content/U.S Universities by State.pdf', 'total_pages': 19, 'page': 8, 'page_label': '9'}, page_content=\"Lawrence Technological University\\nMadonna University\\nMarygrove College\\nMichigan School of Professional Psychology\\nMichigan State University\\nMichigan Technological University\\nMiller College\\nNorthern Michigan University\\nNorthwood University\\nOakland University\\nOlivet College\\nRochester College\\nSacred Heart Major Seminary\\nSaginaw Valley State University\\nSiena Heights University\\nSpring Arbor University\\nThomas M. Cooley Law School\\nUniversity of Detroit Mercy\\nUniversity of Michigan System\\nAnn Arbor (main campus)\\nDearborn\\nFlint\\nWalsh College\\nWayne State University\\nWestern Michigan University\\nMinnesota\\nState higher education oversight agency:\\nMinnesota Office of Higher Education\\nAdler Graduate School\\nAugsburg College\\nBethany Lutheran College\\nBethel University & Seminary\\nCapella University\\nCarleton College\\nCollege of Saint Benedict\\nCollege of Saint Scholastica\\nCollege of Visual Arts (closed 30 June 2013)\\nConcordia College–Moorhead\\nConcordia University–Saint Paul\\nCrossroads College\\nCrown College\\nDunwoody College of Technology\\nGustavus Adolphus College\\nHamline University\\nHazelden Graduate School of Addiction Studies\\nLuther Seminary\\nMacalester College\\nMartin Luther College\\nMayo Clinic College of Medicine\\nMayo Graduate School\\nMayo Medical School\\nMayo School of Health Sciences\\nMinneapolis College of Art & Design\\nMinnesota State College & University System\\nBemidji State University\\nMetropolitan State University\\nMinnesota State University–Mankato\\nMinnesota State University–Moorhead\\nSaint Cloud State University\\nSouthwest Minnesota State University\\nWinona State University\\nNorth Central University\\nNorthwestern Health Sciences University\\nOak Hills Christian College\\nSalem State University\\nWestfield State University\\nWorcester State University\\nMerrimack College\\nMGH Institute of Health Professions\\nMontserrat College of Art\\nMount Holyoke College\\nMount Ida College\\nNational Graduate School of Quality Management\\nNew England College of Business & Finance\\nNew England College of Optometry\\nNew England Conservatory of Music\\nNew England Institute of Art\\nNewbury College\\nNichols College\\nNortheastern University\\nPine Manor College\\nRegis College\\nSaint John's Seminary\\nSimmons College\\nSmith College\\nSpringfield College\\nStonehill College\\nSuffolk University\\nTufts University\\nUniversity of Massachusetts System\\nAmherst\\nBoston\\nDartmouth\\nLowell\\nMedical School at Worcester\\nWellesley College\\nWentworth Institute of Technology\\nWestern New England University\\nWheaton College\\nWheelock College\\nWilliams College\\nWoods Hole Oceanographic Institution\\nWorcester Polytechnic Institute\\nMississippi\\nAlcorn State University\\nBelhaven University\\nBlue Mountain College\\nDelta State University\\nJackson State University\\nMillsaps College\\nMississippi College\\nMississippi State University\\nMississippi University for Women\\nMississippi Valley State University\\nReformed Theological Seminary\\nRust College\\nTougaloo College\\nUniversity of Mississippi\\nUniversity of Mississippi Medical Center\\nUniversity of Southern Mississippi\\nWilliam Carey University\\nMissouri\\nState higher education oversight agency:\\nMissouri Department of Higher Education\"),\n",
              " Document(metadata={'producer': 'PyPDF', 'creator': 'PyPDF', 'creationdate': '', 'source': '/content/U.S Universities by State.pdf', 'total_pages': 19, 'page': 9, 'page_label': '10'}, page_content=\"Rasmussen College\\nSaint Catherine University\\nSaint John's University\\nSaint Mary's University of Minnesota\\nSaint Olaf College\\nUnited Theological Seminary of the Twin Cities\\nUniversity of Minnesota System\\nCrookston\\nDuluth\\nMorris\\nRochester\\nTwin Cities (main campus)\\nUniversity of Northwestern–Saint Paul\\nUniversity of Saint Thomas\\nWalden University\\nMontana\\nCarroll College\\nMontana State University System\\nBillings\\nBozeman\\nNorthern\\nRocky Mountain College\\nSalish Kootenai College\\nUniversity of Great Falls\\nUniversity of Montana System\\nMontana Tech\\nUniversity of Montana–Missoula\\nUniversity of Montana–Western\\nNebraska\\nState higher education oversight agency:\\nNebraska Coordinating Commission for Postsecondary\\nEducation\\nBellevue University\\nBryan College of Health Sciences\\nChadron State College\\nClarkson College\\nCollege of Saint Mary\\nConcordia University–Nebraska\\nCreighton University\\nDoane College\\nGrace University\\nHastings College\\nMidland University\\nNebraska Christian College\\nNebraska Methodist College\\nNebraska Wesleyan University\\nPeru State College\\nSaint Gregory the Great Seminary\\nUnion College\\nUniversity of Nebraska System\\nKearney\\nLincoln\\nMedical Center\\nOmaha\\nWayne State College\\nYork College\\nNew Hampshire\\n \\nA.T. Still University of Health Sciences\\nAquinas Institute of Theology\\nAvila University\\nBaptist Bible College\\nCalvary Bible College & Theological Seminary\\nCentral Christian College of the Bible\\nCentral Methodist University\\nCollege of the Ozarks\\nColumbia College\\nConception Seminary College\\nConcordia Seminary–Saint Louis\\nCottey College\\nCovenant Theological Seminary\\nCox College\\nCulver-Stockton College\\nDeVry University–Kansas City\\nDrury University\\nEden Theological Seminary\\nEvangel University\\nFontbonne University\\nForest Institute of Professional Psychology\\nGlobal University\\nGoldfarb School of Nursing at Barnes-Jewish College\\nHannibal-Lagrange College\\nHarris-Stowe State University\\nKansas City Art Institute\\nKansas City University of Medicine & Biosciences\\nKenrick-Glennon Seminary\\nLincoln University\\nLindenwood University\\nLogan University\\nMaryville University of Saint Louis\\nMidwestern Baptist Theological Seminary\\nMissouri Baptist University\\nMissouri Southern State University\\nMissouri State University\\nMissouri Valley College\\nMissouri Western State University\\nNorthwest Missouri State University\\nOzark Christian College\\nPark University\\nRanken Technical College\\nResearch College of Nursing\\nRockhurst University\\nSaint Louis College of Pharmacy\\nSaint Louis University\\nSaint Luke's College of Health Sciences\\nSaint Paul School of Theology\\nSoutheast Missouri State University\\nSouthwest Baptist University\\nStephens College\\nTruman State University\\nUniversity of Central Missouri\\nUniversity of Missouri System\\nColumbia\\nKansas City\\nMissouri University of Science & Technology\\nSaint Louis\\nWashington University in Saint Louis\\nWebster University\\nWestern Governors University–Missouri\\nWestminster College\\nWilliam Jewell College\\nWilliam Woods University\\nNevada\\nCollege of Southern Nevada\"),\n",
              " Document(metadata={'producer': 'PyPDF', 'creator': 'PyPDF', 'creationdate': '', 'source': '/content/U.S Universities by State.pdf', 'total_pages': 19, 'page': 10, 'page_label': '11'}, page_content=\"Antioch University–New England\\nChester College of New England (closed May 2012)\\nColby-Sawyer College\\nDaniel Webster College\\nDartmouth College\\nFranklin Pierce University\\nGranite State College\\nKeene State College\\nMount Washington College\\nNew England College\\nPlymouth State University\\nRivier University\\nSaint Anselm College\\nSouthern New Hampshire University\\nThe Thomas More College of Liberal Arts\\nUniversity of New Hampshire\\nUniversity of New Hampshire at Manchester\\nUniversity of New Hampshire School of Law\\nNew Mexico\\nState higher education oversight agency:\\nNew Mexico Higher Education Department\\nEastern New Mexico University\\nInstitute of American Indian Arts\\nNavajo Technical University\\nNew Mexico Highlands University\\nNew Mexico Institute of Mining & Technology\\nNew Mexico State University\\nNorthern New Mexico College\\nSaint John's College–Santa Fe\\nSanta Fe University of Art & Design\\nSouthwestern College\\nUniversity of New Mexico\\nUniversity of the Southwest\\nWestern New Mexico University\\nNorth Carolina\\nBarton College\\nBelmont Abbey College\\nBennett College for Women\\nBrevard College\\nCabarrus College of Health Sciences\\nCampbell University\\nCatawba College\\nChowan College\\nDavidson College\\nDuke University\\nElon University\\nGardner-Webb University\\nGreensboro College\\nGuilford College\\nHigh Point University\\nJohnson C. Smith University\\nLees-McRae College\\nLenoir-Rhyne University\\nLivingstone College\\nMars Hill College\\nMeredith College\\nMethodist University\\nMid-Atlantic Christian University\\nMontreat College\\nNorth Carolina Wesleyan College\\nGreat Basin College\\nRoseman University of Health Sciences\\nSierra Nevada College\\nTouro University Nevada\\nUniversity of Nevada–Las Vegas\\nUniversity of Nevada–Reno\\nWestern Nevada College\\nNew Jersey\\nBerkeley College\\nBloomfield College\\nCaldwell College\\nCentenary College\\nThe College of New Jersey\\nCollege of Saint Elizabeth\\nDrew University\\nFairleigh Dickinson University\\nFelician College\\nGeorgian Court University\\nKean University\\nMonmouth University\\nMontclair State University\\nNew Jersey City University\\nNew Jersey Institute of Technology\\nPillar College\\nPrinceton Theological Seminary\\nPrinceton University\\nRamapo College of New Jersey\\nRichard Stockton College of New Jersey\\nRider University\\nRowan University\\nRutgers, the State University of New Jersey\\nCamden\\nNew Brunswick\\nNewark\\nSaint Peter's University\\nSeton Hall University\\nStevens Institute of Technology\\nThomas Edison State College\\nUniversity of Medicine & Dentistry of New Jersey\\nWilliam Paterson University\\nNew York\\nAdelphi University\\nAlbany College of Pharmacy & Health Sciences\\nAlbany Medical College\\nAlfred University\\nBank Street College of Education\\nBard College\\nBarnard College\\nBoricua College\\nBriarcliffe College\\nCanisius College\\nCazenovia College\\nChrist the King Seminary\\nCity University of New York\\nBaruch College\\nBrooklyn College\\nCity College\\nCollege of Staten Island\\nGraduate School & University Center\\nHunter College\\nJohn Jay College of Criminal Justice\\nLehman College\"),\n",
              " Document(metadata={'producer': 'PyPDF', 'creator': 'PyPDF', 'creationdate': '', 'source': '/content/U.S Universities by State.pdf', 'total_pages': 19, 'page': 11, 'page_label': '12'}, page_content=\"Peace College\\nPfeiffer University\\nQueens University of Charlotte\\nSaint Andrews Presbyterian College\\nSaint Augustine's University\\nSalem College\\nShaw University\\nSoutheastern Baptist Theological Seminary\\nUniversity of Mount Olive\\nUniversity of North Carolina System\\nAppalachian State University\\nEast Carolina University\\nElizabeth City State University\\nFayetteville State University\\nNorth Carolina A&T State University\\nNorth Carolina Central University\\nNorth Carolina State University\\nUNC Asheville\\nUNC Chapel Hill\\nUNC Charlotte\\nUNC Greensboro\\nUNC Pembroke\\nUNC School of the Arts\\nUNC Wilmington\\nWestern Carolina University\\nWinston-Salem State University\\nWake Forest University\\nWarren Wilson College\\nWingate University\\nNorth Dakota\\nNorth Dakota University System\\nBismark State College\\nDickinson State University\\nMayville State University\\nMinot State University\\nNorth Dakota State University\\nUniversity of North Dakota\\nValley City State University\\nRasmussen College\\nSanford College of Nursing\\nSitting Bull College\\nTrinity Bible College\\nTurtle Mountain Community College\\nUniversity of Jamestown\\nUniversity of Mary\\nOhio\\nAir Force Institute of Technology\\nAntioch College\\nAntioch University–Midwest\\nArt Academy of Cincinnati\\nAshland University\\nAthenaeum of Ohio\\nBaldwin-Wallace College\\nBluffton University\\nCapital University\\nCase Western Reserve University\\nCedarville University\\nChancellor University\\nCincinnati Christian University\\nCincinnati College of Mortuary Science\\nCleveland Institute of Art\\nCleveland Institute of Music\\nMedgar Evers College\\nNew York City College of Technology\\nQueens College\\nYork College\\nClarkson University\\nColgate University\\nCollege of Mount Saint Vincent\\nCollege of New Rochelle\\nCollege of Saint Rose\\nColumbia University\\nConcordia College–Bronxville\\nThe Cooper Union for the Advancement of Science & Art\\nCornell University\\nCulinary Institute of America\\nDaemen College\\nDavis College\\nDominican College\\nDowling College\\nD´Youville College\\nElmira College\\nExcelsior College\\nFive Towns College\\nFordham University\\nHamilton College\\nHartwick College\\nHebrew Union College-Jewish Institute of Religion\\nHilbert College\\nHobart & William Smith Colleges\\nHofstra University\\nHoughton College\\nIcahn School of Medicine at Mount Sinai\\nIona College\\nIthaca College\\nThe Jewish Theological Seminary of America\\nThe Juilliard School\\nKeuka College\\nThe King's College\\nLe Moyne College\\nLIM College\\nLong Island University\\nArnold & Marie Schwartz College of Pharmacy & Health\\nSciences\\nBrentwood\\nBrooklyn\\nC.W. Post Campus\\nHudson\\nRiverhead\\nManhattan College\\nManhattan School of Music\\nManhattanville College\\nMaria College of Albany\\nMarist College\\nMarymount Manhattan College\\nMedaille College\\nMercy College\\nMetropolitan College of New York\\nMolloy College\\nMonroe College\\nMount Saint Mary College\\nNazareth College\\nThe New School\\nNew York Chiropractic College\\nNew York Institute of Technology\\nNew York Medical College\\nNew York University\\nNiagara University\\nNyack College\\nPace University\\nPaul Smith's College\\nPratt Institute\"),\n",
              " Document(metadata={'producer': 'PyPDF', 'creator': 'PyPDF', 'creationdate': '', 'source': '/content/U.S Universities by State.pdf', 'total_pages': 19, 'page': 12, 'page_label': '13'}, page_content=\"College of Mount Saint Joseph\\nCollege of Wooster\\nColumbus College of Art & Design\\nDefiance College\\nDenison University\\nFranciscan University of Steubenville\\nFranklin University\\nGod's Bible School & College\\nHebrew Union College-Jewish Institute of Religion\\nHeidelberg College\\nHiram College\\nJohn Carroll University\\nKenyon College\\nKettering College\\nLake Erie College\\nLourdes University\\nMalone University\\nMarietta College\\nMercy College of Northwest Ohio\\nMethodist Theological School in Ohio\\nMount Carmel College of Nursing\\nMount Vernon Nazarene University\\nMuskingum University\\nNotre Dame College\\nOberlin College\\nOhio Christian University\\nOhio Dominican University\\nOhio Northern University\\nOhio Wesleyan University\\nOtterbein University\\nPontifical College Josephinum\\nSaint Mary Seminary & Graduate School of Theology\\nTiffin University\\nTrinity Lutheran Seminary\\nUnion Institute & University\\nUnited Theological Seminary\\nUniversity of Dayton\\nThe University of Findlay\\nUniversity of Mount Union\\nUniversity of Northwestern Ohio\\nUniversity of Rio Grande\\nUniversity System of Ohio\\nBowling Green State University\\nCentral State University\\nCleveland State University\\nKent State University (main campus)\\nKent State University–Ashtabula Campus\\nKent State University–College of Podiatric Medicine\\nKent State University–Columbiana County\\nKent State University–Geauga Campus\\nKent State University–Stark Campus\\nKent State University–Trumbull Campus\\nKent State University–Tuscarawas Campus\\nMiami University\\nMiami University–Regional Campuses\\nNortheast Ohio Medical University\\nOhio State University–Columbus (main campus)\\nOhio State University–Lima\\nOhio State University–Mansfield\\nOhio State University–Marion\\nOhio State University–Newark\\nOhio University\\nOhio University–Eastern Campus\\nOhio University–Lancaster\\nOhio University–Zanesville\\nShawnee State University\\nUniversity of Akron\\nUniversity of Cincinnati\\nUniversity of Cincinnati–Blue Ash\\nUniversity of Toledo\\nRensselaer Polytechnic Institute\\nRoberts Wesleyan College\\nNortheastern Seminary at Roberts Wesleyan College\\nRochester Institute of Technology\\nThe Sage Colleges\\nSaint Bonaventure University\\nSaint Francis College\\nSaint John Fisher College\\nSaint John's University\\nSaint Joseph's College\\nSaint Joseph's Seminary\\nSaint Lawrence University\\nSaint Thomas Aquinas College\\nSarah Lawrence College\\nSchool of Visual Arts\\nSeminary of the Immaculate Conception\\nSiena College\\nSkidmore College\\nState University of New York System\\nAlbany\\nAlfred State University\\nBinghamton\\nBuffalo\\nBuffalo State College\\nStony Brook\\nCollege at Brockport\\nCollege at Cortland\\nCollege at Fredonia\\nCollege at Geneseo\\nCollege at New Paltz\\nCollege at Old Westbury\\nCollege at Oneonta\\nCollege at Oswego\\nCollege at Plattsburgh\\nCollege at Potsdam\\nCollege at Purchase\\nCollege of Agriculture & Technology at Cobleskill\\nCollege of Agriculture & Technology at Morrisville (Morrisville\\nState College)\\nCollege of Environmental Science & Forestry\\nCollege of Optometry\\nCollege of Technology at Canton\\nCollege of Technology at Delhi\\nDownstate Medical Center\\nEmpire State College\\nFarmingdale State College\\nFashion Institute of Technology\\nInstitute of Technology at Utica/Rome\\nMaritime College at Fort Schuyler\\nUpstate Medical University\\nSyracuse University\\nTouro College\\nUnification Theological Seminary\\nUnion College\\nUnion Graduate College\\nUnion Theological Seminary\\nUnited States Merchant Marine Academy\\nUnited States Military Academy\\nUniversity of Rochester\\nUtica College\\nVassar College\\nVaughn College of Aeronautics & Technology\\nVilla Maria College\\nWagner College\\nWebb Institute\\nWells College\\nYeshiva University\"),\n",
              " Document(metadata={'producer': 'PyPDF', 'creator': 'PyPDF', 'creationdate': '', 'source': '/content/U.S Universities by State.pdf', 'total_pages': 19, 'page': 13, 'page_label': '14'}, page_content=\"Wright State University\\nYoungstown State University\\nUrbana University\\nUrsuline College\\nWalsh University\\nWilberforce University\\nWilmington College\\nWittenberg University\\nXavier University\\nOregon\\nArt Institute of Portland\\nConcordia University–Portland\\nCorban University\\nEastern Oregon University\\nGeorge Fox University\\nLewis & Clark College\\nLinfield College\\nMarylhurst University\\nMount Angel Seminary\\nMultnomah University\\nNational College of Natural Medicine\\nNew Hope Christian College\\nNorthwest Christian University\\nOregon College of Art & Craft\\nOregon Health & Science University\\nOregon Institute of Technology\\nOregon State University\\nPacific Northwest College of Art\\nPacific University\\nPortland State University\\nReed College\\nSouthern Oregon University\\nUniversity of Oregon\\nUniversity of Portland\\nUniversity of Western States\\nWarner Pacific College\\nWestern Oregon University\\nWestern Seminary\\nWillamette University\\nRhode Island\\nBrown University\\nBryant University\\nJohnson & Wales University\\nNew England Institute of Technology\\nProvidence College\\nRhode Island College\\nRhode Island School of Design\\nRoger Williams University\\nSalve Regina University\\nUnited States Naval War College\\nUniversity of Rhode Island\\nSouth Carolina\\nAllen University\\nAnderson University\\nBenedict College\\nCharleston Southern University\\nThe Citadel\\nClaflin University\\nOklahoma\\nBacone College\\nCameron University\\nEast Central University\\nLangston University\\nMid-America Christian University\\nNortheastern State University\\nBroken Arrow campus\\nMuskogee campus\\nNorthwestern Oklahoma State University\\nOklahoma Baptist University\\nOklahoma Christian University\\nOklahoma City University\\nOklahoma Panhandle State University\\nOklahoma State University System\\nCenter for Health Sciences\\nInstitute of Technology\\nOklahoma City\\nStillwater\\nTulsa\\nOklahoma Wesleyan University\\nOral Roberts University\\nPhillips Theological Seminary\\nPhillips University (closed July 1998)\\nRogers State University\\nSaint Gregory's University\\nSoutheastern Oklahoma State University\\nSouthern Nazarene University\\nSouthwestern Christian University\\nSouthwestern Oklahoma State University\\nUniversity of Central Oklahoma\\nUniversity of Oklahoma\\nUniversity of Oklahoma Health Sciences Center\\nUniversity of Oklahoma–Tulsa\\nUniversity of Science & Arts of Oklahoma\\nUniversity of Tulsa\\nPennsylvania\\nAlbright College\\nAllegheny College\\nAlvernia University\\nThe American College of Financial Services\\nArcadia University\\nArt Institute of Pittsburgh\\nBaptist Bible College & Seminary\\nBiblical Theological Seminary\\nBryn Athyn College\\nBryn Mawr College\\nBucknell University\\nCabrini College\\nCairn University\\nCalvary Baptist Seminary\\nCarlow University\\nCarnegie Mellon University\\nCedar Crest College\\nCentral Penn College\\nBryn Athyn College\\nChestnut Hill College\\nCurtis Institute of Music\\nDelaware Valley College\\nDeSales University\\nDickinson College\\nDrexel University\\nDuquesne University\\nEastern University\\nElizabethtown College\"),\n",
              " Document(metadata={'producer': 'PyPDF', 'creator': 'PyPDF', 'creationdate': '', 'source': '/content/U.S Universities by State.pdf', 'total_pages': 19, 'page': 14, 'page_label': '15'}, page_content=\"Clemson University\\nCoastal Carolina University\\nCoker College\\nCollege of Charleston\\nColumbia College\\nColumbia International University\\nConverse College\\nErskine College\\nFrancis Marion University\\nFurman University\\nLander University\\nLimestone College\\nMedical University of South Carolina\\nMorris College\\nNewberry College\\nNorth Greenville University\\nPresbyterian College\\nSherman College of Chiropractic\\nSouth Carolina State University\\nSouthern Wesleyan University\\nUniversity of South Carolina System\\nAiken\\nBeaufort\\nColumbia\\nUpstate\\nVoorhees College\\nWinthrop University\\nWofford College\\nSouth Dakota\\nAugustana College\\nBlack Hills State University\\nDakota State University\\nDakota Wesleyan University\\nMount Marty College\\nNational American University\\nNorthern State University\\nOglala Lakota College\\nPresentation College\\nSinte Gleska University\\nSioux Falls Seminary\\nSouth Dakota School of Mines & Technology\\nSouth Dakota State University\\nUniversity of Sioux Falls\\nUniversity of South Dakota\\nTennessee\\nState higher education oversight agency:\\nTennessee Higher Education Commission\\nAquinas College\\nAustin Peay State University\\nBaptist Memorial College of Health Sciences\\nBelmont University\\nBethel University\\nBryan College\\nCarson-Newman College\\nChristian Brothers University\\nCumberland University\\nEast Tennessee State University\\nEmmanuel Christian Seminary\\nFisk University\\nFreed-Hardeman University\\nEvangelical Theological Seminary\\nFranklin & Marshall College\\nGannon University\\nGeneva College\\nGettysburg College\\nGratz College\\nGrove City College\\nGwynedd Mercy University\\nHarrisburg University of Science & Technology\\nHaverford College\\nHoly Family University\\nImmaculata University\\nJuniata College\\nKeystone College\\nKing's College\\nLa Roche College\\nLa Salle University\\nLafayette College\\nLake Erie College of Osteopathic Medicine\\nLancaster Bible College\\nLancaster Theological Seminary\\nLebanon Valley College\\nLehigh University\\nLincoln University\\nLutheran Theological Seminary at Gettysburg\\nLutheran Theological Seminary at Philadelphia\\nLycoming College\\nMarywood University\\nMercyhurst College\\nMessiah College\\nMisericordia University\\nMoore College of Art & Design\\nMoravian College\\nMount Aloysius College\\nMuhlenberg College\\nNeumann University\\nPeirce College\\nPennsylvania College of Art & Design\\nPennsylvania College of Health Sciences\\nPennsylvania State System of Higher Education\\nBloomsburg University of Pennsylvania\\nCalifornia University of Pennsylvania\\nCheyney University of Pennsylvania\\nClarion University of Pennsylvania\\nEast Stroudsburg University of Pennsylvania\\nEdinboro University of Pennsylvania\\nIndiana University of Pennsylvania\\nKutztown University of Pennsylvania\\nLock Haven University of Pennsylvania\\nMansfield University of Pennsylvania\\nMillersville University of Pennsylvania\\nShippensburg University of Pennsylvania\\nSlippery Rock University of Pennsylvania\\nWest Chester University of Pennsylvania\\nPennsylvania State University System\\nAbington\\nAltoona\\nBeaver\\nBerks\\nBrandywine\\nDickinson School of Law\\nDuBois\\nErie, The Behrend College\\nFayette, The Eberly Campus\\nGreat Valley School of Graduate Professional Studies\\nGreater Allegheny\\nHarrisburg\\nHazleton\\nLehigh Valley\\nMilton S. Hershey Medical Center\"),\n",
              " Document(metadata={'producer': 'PyPDF', 'creator': 'PyPDF', 'creationdate': '', 'source': '/content/U.S Universities by State.pdf', 'total_pages': 19, 'page': 15, 'page_label': '16'}, page_content=\"Johnson University\\nKing College\\nLane College\\nLee University\\nLeMoyne-Owen College\\nLincoln Memorial University\\nLipscomb University\\nMartin Methodist College\\nMaryville College\\nMeharry Medical College\\nMemphis College of Art\\nMemphis Theological Seminary\\nMid-America Baptist Theological Seminary\\nMiddle Tennessee School of Anesthesia\\nMiddle Tennessee State University\\nMilligan College\\nPentecostal Theological Seminary\\nRhodes College\\nRichmont Graduate University\\nSouth College\\nSouthern Adventist University\\nSouthern College of Optometry\\nTennessee State University\\nTennessee Technological University\\nTennessee Wesleyan College\\nTrevecca Nazarene University\\nTusculum College\\nUnion University\\nUniversity of Memphis\\nUniversity of Tennessee System\\nChattanooga\\nHealth Science Center\\nKnoxville\\nMartin\\nUniversity of the South\\nVanderbilt University\\nVictory University\\nWatkins College of Art, Design, & Film\\nWelch College\\nWestern Governors University–Tennessee\\nUtah\\nBrigham Young University\\nDixie State University\\nSouthern Utah University\\nUniversity of Utah\\nUtah State University\\nUtah Valley University\\nWeber State University\\nWestern Governors University\\nWestminster College\\nVermont\\nBennington College\\nBurlington College\\nCastleton State College\\nChamplain College\\nCollege of Saint Joseph\\nGoddard College\\nGreen Mountain College\\nJohnson State College\\nLandmark College\\nLyndon State College\\nMarlboro College\\nMont Alto\\nNew Kensington\\nPennsylvania College of Technology\\nSchuylkill\\nShenango\\nUniversity Park (main campus)\\nWilkes-Barre\\nWorthington Scranton\\nYork\\nPhiladelphia College of Osteopathic Medicine\\nPhiladelphia University\\nPittsburgh Theological Seminary\\nPoint Park University\\nReconstructionist Rabbinical College\\nRobert Morris University\\nRosemont College\\nSaint Charles Borromeo Seminary\\nSaint Francis University\\nSaint Joseph's University\\nSaint Vincent College\\nSalus University\\nSeton Hill University\\nSusquehanna University\\nSwarthmore College\\nTemple University\\nThiel College\\nThomas Jefferson University\\nUnited States Army War College\\nUniversity of Pennsylvania\\nUniversity of Pittsburgh\\nBradford\\nGreensburg\\nJohnstown\\nUniversity of Scranton\\nUniversity of the Arts\\nUniversity of the Sciences in Philadelphia\\nUrsinus College\\nValley Forge Christian College\\nVillanova University\\nWashington & Jefferson College\\nWaynesburg University\\nWestminster College\\nWestminster Theological Seminary\\nWidener University\\nWilkes University\\nWilson College\\nWon Institute of Graduate Studies\\nYork College of Pennsylvania\\nTexas\\nState higher education oversight agency:\\nTexas Higher Education Coordinating Board\\nAbilene Christian University\\nAmbassador University (closed spring 1997)\\nAmberton University\\nAmerican College of Acupuncture & Oriental Medicine\\nAOMA Graduate School of Integrative Medicine\\nArlington Baptist College\\nArt Institute of Dallas\\nArt Institute of Houston\\nAustin College\\nAustin Graduate School of Theology\\nAustin Presbyterian Theological Seminary\\nBaptist Missionary Association Theological Seminary\\nBaylor College of Medicine\"),\n",
              " Document(metadata={'producer': 'PyPDF', 'creator': 'PyPDF', 'creationdate': '', 'source': '/content/U.S Universities by State.pdf', 'total_pages': 19, 'page': 16, 'page_label': '17'}, page_content=\"Middlebury College\\nNorwich University\\nSaint Michael's College\\nSchool for International Training\\nSouthern Vermont College\\nSterling College\\nUniversity of Vermont\\nVermont College of Fine Arts\\nVermont Law School\\nVermont Technical College\\nVirginia\\nState higher education oversight agency:\\nState Council of Higher Education for Virginia\\nAverett University\\nBluefield College\\nBridgewater College\\nChristendom College\\nChristopher Newport University\\nCollege of William and Mary\\nDeVry University–Arlington\\nEastern Mennonite University\\nEastern Virginia Medical School\\nECPI University\\nEmory & Henry College\\nFerrum College\\nGeorge Mason University\\nGeorge Washington University–Virginia Science & Technology\\nCampus\\nHampden-Sydney College\\nHampton University\\nHollins University\\nInstitute for the Psychological Sciences\\nJames Madison University\\nJefferson College of Health Sciences\\nLiberty University\\nLongwood University\\nLynchburg College\\nMarine Corps University\\nMary Baldwin College\\nMarymount University\\nNorfolk State University\\nOld Dominion University\\nRadford University\\nRandolph College\\nRandolph-Macon College\\nRegent University\\nRoanoke College\\nSaint Paul's College (closed 30 June 2013)\\nShenandoah University\\nSouthern Virginia University\\nSweet Briar College\\nUnion Presbyterian Seminary\\nUniversity of Mary Washington\\nUniversity of Richmond\\nUniversity of Virginia\\nUniversity of Virginia's College at Wise\\nVirginia Commonwealth University\\nVirginia Intermont College (closed summer 2014)\\nVirginia Military Institute\\nVirginia Polytechnic Institute & State University\\nVirginia State University\\nVirginia Union University\\nVirginia Wesleyan College\\nWashington & Lee University\\nBaylor University\\nBrite Divinity School\\nCollege of Biblical Studies–Houston\\nCollege of Saints John Fisher & Thomas More\\nConcordia University–Texas\\nCriswell College\\nDallas Baptist University\\nDallas Christian College\\nDallas Theological Seminary\\nDeVry University–Irving (Dallas)\\nEast Texas Baptist University\\nGraduate Institute of Applied Linguistics\\nHardin-Simmons University\\nHouston Baptist University\\nHoward Payne University\\nHuston-Tillotson University\\nJarvis Christian College\\nLeTourneau University\\nLubbock Christian University\\nMcMurry University\\nMidwestern State University\\nNorthwood University\\nOblate School of Theology\\nOur Lady of the Lake University\\nParker University\\nPaul Quinn College\\nRice University\\nSaint Edward's University\\nSaint Mary's University\\nSchreiner University\\nSeminary of the Southwest\\nSouthern Methodist University\\nSouth Texas College of Law\\nSouthwestern Adventist University\\nSouthwestern Assemblies of God University\\nSouthwestern Baptist Theological Seminary\\nSouthwestern Christian College\\nSouthwestern University\\nStephen F. Austin State University\\nTexas A&M University System\\nCentral Texas\\nCollege Station\\nCommerce\\nCorpus Christi\\nGalveston\\nHealth Science Center\\nKingsville\\nPrairie View A&M University\\nSan Antonio (operates as branch of Texas A&M University–\\nKingsville)\\nTarleton State University\\nTexarkana\\nTexas A&M International University\\nWest Texas A&M University\\nTexas Chiropractic College\\nTexas Christian University\\nTexas College\\nTexas Lutheran University\\nTexas Southern University\\nTexas State University System\\nLamar University\\nSam Houston State University\\nSul Ross State University\\nTexas State University–San Marcos\\nTexas Tech University System\\nAngelo State University\\nHealth Sciences Center\\nTexas Tech University\\nTexas Wesleyan University\\nTexas Woman's University\"),\n",
              " Document(metadata={'producer': 'PyPDF', 'creator': 'PyPDF', 'creationdate': '', 'source': '/content/U.S Universities by State.pdf', 'total_pages': 19, 'page': 17, 'page_label': '18'}, page_content=\"Washington\\nAntioch University–Seattle\\nArt Institute of Seattle\\nBastyr University\\nBellevue College\\nCentral Washington University\\nCity University of Seattle\\nCornish College of the Arts\\nEastern Washington University\\nEvergreen State College\\nGonzaga University\\nHeritage University\\nNorthwest Indian College\\nNorthwest University\\nOlympic College\\nPacific Lutheran University\\nPeninsula College\\nSaint Martin's University\\nSeattle Pacific University\\nSeattle University\\nTrinity Lutheran College\\nUniversity of Puget Sound\\nUniversity of Washington\\nBothell campus\\nTacoma campus\\nWalla Walla University\\nWashington State University\\nSpokane campus\\nTri-Cities campus\\nVancouver campus\\nWestern Governors University–Washington\\nWestern Washington University\\nWhitman College\\nWhitworth University\\nWisconsin\\nAlverno College\\nBellin College\\nBeloit College\\nCardinal Stritch University\\nCarroll University\\nCarthage College\\nCollege of the Menominee Nation\\nColumbia College of Nursing\\nConcordia University–Wisconsin\\nEdgewood College\\nHerzing University\\nLakeland College\\nLawrence University\\nMaranatha Baptist University\\nMarian University\\nMarquette University\\nMedical College of Wisconsin\\nMilwaukee Institute of Art & Design\\nMilwaukee School of Engineering\\nMount Mary College\\nNorthland College\\nRasmussen College\\nRipon College\\nSacred Heart School of Theology\\nSaint Norbert College\\nSilver Lake College\\nUniversity of Wisconsin System\\nEau Claire\\nTrinity University\\nUniversity of Dallas\\nUniversity of Houston System\\nmain campus\\nClear Lake\\nDowntown\\nVictoria\\nUniversity of Mary Hardin-Baylor\\nUniversity of North Texas\\nHealth Science Center\\nUniversity of Saint Thomas\\nUniversity of Texas System\\nArlington\\nAustin\\nBrownsville\\nDallas\\nEl Paso\\nPan American\\nPermian Basin\\nSan Antonio\\nTyler\\nHealth Science Center at Houston\\nHealth Science Center at San Antonio\\nHealth Science Center at Tyler\\nM.D. Anderson Cancer Center\\nMedical Branch at Galveston\\nSouthwestern Medical Center at Dallas\\nUniversity of the Incarnate Word\\nWade College\\nWayland Baptist University\\nWestern Governors University–Texas\\nWiley College\\nWest Virginia\\nAlderson-Broaddus College\\nAmerican Public University System\\nAmerican Military University\\nAmerican Public University\\nAppalachian Bible College\\nBethany College\\nBluefield State College\\nConcord University\\nDavis & Elkins College\\nFairmont State University\\nFuture Generations Graduate School\\nGlenville State College\\nMarshall University\\nMountain State University (closed 01 January 2013)\\nOhio Valley University\\nSalem International University\\nShepherd University\\nUniversity of Charleston\\nWest Liberty University\\nWest Virginia State University\\nWest Virginia University\\nWest Virginia University Institute of Technology\\nWest Virginia University at Parkersburg\\nWest Virginia Wesleyan College\\nWheeling Jesuit University\\nWyoming\\nUniversity of Wyoming\"),\n",
              " Document(metadata={'producer': 'PyPDF', 'creator': 'PyPDF', 'creationdate': '', 'source': '/content/U.S Universities by State.pdf', 'total_pages': 19, 'page': 18, 'page_label': '19'}, page_content='updated 30 June 2014\\nsend addition/update • send comment • Office of Admissions • The University of Texas at Austin\\nGreen Bay\\nLa Crosse\\nMadison\\nMilwaukee\\nOshkosh\\nParkside\\nPlatteville\\nRiver Falls\\nStevens Point\\nStout\\nSuperior\\nWhitewater\\nViterbo University\\nWisconsin Lutheran College\\nWisconsin School of Professional Psychology\\nU.S. Virgin Islands\\nUniversity of the Virgin Islands\\nGuam\\nUniversity of Guam\\nPuerto Rico\\nAmerican University of Puerto Rico\\nCaribbean University\\nCarlos Albizu University\\nCentro de Estudios Avanzados de Puerto Rico y el Caribe\\nColegio Universitario de San Juan\\nColumbia Centro Universitario\\nConservatorio de Música de Puerto Rico\\nEscuela de Artes Plásticas de Puerto Rico\\nEDP College\\nPonce School of Medicine & Health Sciences\\nPontificia Universidad Católica de Puerto Rico\\nSan Juan Bautista School of Medicine\\nSeminario Evangélico de Puerto Rico\\nSistema Universitario Ana G. Méndez\\nUniversidad del Este\\nUniversidad Metropolitana\\nUniversidad del Turabo\\nUniversidad Adventista de las Antillas\\nUniversidad Central de Bayamón\\nUniversidad Central del Caribe\\nUniversidad del Sagrado Corazón\\nUniversidad Interamericana de Puerto Rico\\nAguadilla Campus\\nArecibo Campus\\nBarranquitas Campus\\nBayamón Campus\\nFajardo Campus\\nGuayama Campus\\nMetropolitan Campus\\nPonce Campus\\nSan Germán Campus\\nSchool of Law\\nSchool of Optometry\\nUniversidad Politecnica de Puerto Rico\\nUniversity of Puerto Rico System\\nAguadilla\\nArecibo\\nBayamón\\nCarolina\\nCayey\\nCiencias Médicas\\nHumacao\\nMayagüez\\nPonce\\nRío Piedras\\nUtuado')]"
            ]
          },
          "metadata": {},
          "execution_count": 45
        }
      ]
    }
  ]
}